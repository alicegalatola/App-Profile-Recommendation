{
 "cells": [
  {
   "cell_type": "markdown",
   "id": "d6071a30",
   "metadata": {},
   "source": [
    "# My Project"
   ]
  },
  {
   "cell_type": "markdown",
   "id": "7a6d90b2",
   "metadata": {},
   "source": [
    "# Introduction"
   ]
  },
  {
   "cell_type": "markdown",
   "id": "82205a9b",
   "metadata": {},
   "source": [
    "In this project I am acting as a data analyst for a company which builds apps for Android and iOS mobile users to be available on the Google Play and Apple Store.\n",
    "\n",
    "The company's apps are free to download and play; the primary source of revenue is from advertisements within apps.  Therefore, revenue is determined by the nuber of users of apps.\n",
    "\n",
    "I aim to investigate two datasets taken from the above mentioned app stores to determine which types of apps are likely to attract the most users."
   ]
  },
  {
   "cell_type": "markdown",
   "id": "349d78a1",
   "metadata": {},
   "source": [
    "## Explore the Data Set"
   ]
  },
  {
   "cell_type": "markdown",
   "id": "9eb52766",
   "metadata": {},
   "source": [
    "As mentioned in the above section, we are examining two data sets extracted from the iOS App Store and Android Google Play Store.\n",
    "\n",
    "As of 2022 there are approximately 3.79 million apps in the App Store and the Google Play Store has approximately 3.30 million apps.\n",
    "\n",
    "Source: __[Statistia iOS](https://www.statista.com/statistics/268251/number-of-apps-in-the-itunes-app-store-since-2008/)__\n",
    "__[Statistia Android](https://www.statista.com/statistics/289418/number-of-available-apps-in-the-google-play-store-quarter/)__\n",
    "\n",
    "I do not have the resources to collect and analyse data for almost 7 million apps so instead I will be using sample data sets for both stores.\n",
    "\n",
    "Both datasets are publically accessible and free to use."
   ]
  },
  {
   "cell_type": "markdown",
   "id": "5b27a259",
   "metadata": {},
   "source": [
    "**Android Google Play Store Data**\n",
    "The Android data can be downloaded via __[this link](https://dq-content.s3.amazonaws.com/350/googleplaystore.csv)__.\n",
    "\n",
    "The data set was collected in August 2018 and contains data on approximately 10,000 apps.\n",
    "\n",
    "**iOS App Store Data**\n",
    "The iOS data can be downloaded via __[this link](https://dq-content.s3.amazonaws.com/350/AppleStore.csv)__.\n",
    "\n",
    "This dataset was collected in July 2017 and contains data on approximately 7,000 apps available on the iOS Store."
   ]
  },
  {
   "cell_type": "markdown",
   "id": "fe3b9dcd",
   "metadata": {},
   "source": [
    "It is important to note that both data sets are a few years old, and may not capture accurately current trends, but it will give an indication of which apps will be the most popular and which app genres will not be overly saturated."
   ]
  },
  {
   "cell_type": "markdown",
   "id": "08c86ceb",
   "metadata": {},
   "source": [
    "### Create Function Explore Data"
   ]
  },
  {
   "cell_type": "markdown",
   "id": "01fb5360",
   "metadata": {},
   "source": [
    "In the section below I create a function \"explore_data\" which will allow us to examine our two datasets.\n",
    "\n",
    "The breakdown of the function is as follows:\n",
    "\n",
    " - Take as input the following parameters:\n",
    "    - Dataset, for which we will be using our two list of lists (App Store data and Google Play data)\n",
    "    - Start and End, this will be two intigers which will act as indices to splice the dataset\n",
    "    - Rows_and_columns, a boolean set to default False\n",
    " - Splices the data set\n",
    " - Iterates through each row in the slice and prints them, with an empty line after each row\n",
    " - If rows_and_column is True the function will then print the number of rows and columns in the data set\n",
    " \n",
    "This will present the data in a readable way to give us a more clear understanding of our dataset by showing up a sample slice, the column headings and the number of rows and columns in the dataset."
   ]
  },
  {
   "cell_type": "code",
   "execution_count": 1,
   "id": "1976e5c6",
   "metadata": {},
   "outputs": [],
   "source": [
    "# create explore_data function\n",
    "def explore_data(dataset, start, end, rows_and_columns=False):\n",
    "    dataset_slice = dataset[start:end]\n",
    "    for row in dataset_slice:\n",
    "        print(row)\n",
    "        print('\\n')\n",
    "    if rows_and_columns:\n",
    "        print('Number of rows:', len(dataset))\n",
    "        print('Number of columns:', len(dataset[0]))\n",
    "        \n",
    "# Open Apple Store and Google Play Files\n",
    "\n",
    "apple_store = open('C:/Users/alice/Documents/Data Quest/Data Quest Python Project/AppleStore.csv', encoding='utf8')\n",
    "google_play_store = open('C:/Users/alice/Documents/Data Quest/Data Quest Python Project/googleplaystore.csv', encoding='utf8')\n",
    "\n",
    "# Read Files using Reader command\n",
    "\n",
    "from csv import reader\n",
    "read_file = reader(apple_store)\n",
    "apple_store = list(read_file)\n",
    "read_file = reader(google_play_store)\n",
    "google_play_store = list(read_file)"
   ]
  },
  {
   "cell_type": "markdown",
   "id": "a359118d",
   "metadata": {},
   "source": [
    "### Explore Data"
   ]
  },
  {
   "cell_type": "code",
   "execution_count": 2,
   "id": "ae7f6847",
   "metadata": {},
   "outputs": [
    {
     "name": "stdout",
     "output_type": "stream",
     "text": [
      "['id', 'track_name', 'size_bytes', 'currency', 'price', 'rating_count_tot', 'rating_count_ver', 'user_rating', 'user_rating_ver', 'ver', 'cont_rating', 'prime_genre', 'sup_devices.num', 'ipadSc_urls.num', 'lang.num', 'vpp_lic']\n",
      "\n",
      "\n",
      "['284882215', 'Facebook', '389879808', 'USD', '0.0', '2974676', '212', '3.5', '3.5', '95.0', '4+', 'Social Networking', '37', '1', '29', '1']\n",
      "\n",
      "\n",
      "['389801252', 'Instagram', '113954816', 'USD', '0.0', '2161558', '1289', '4.5', '4.0', '10.23', '12+', 'Photo & Video', '37', '0', '29', '1']\n",
      "\n",
      "\n",
      "['529479190', 'Clash of Clans', '116476928', 'USD', '0.0', '2130805', '579', '4.5', '4.5', '9.24.12', '9+', 'Games', '38', '5', '18', '1']\n",
      "\n",
      "\n",
      "['420009108', 'Temple Run', '65921024', 'USD', '0.0', '1724546', '3842', '4.5', '4.0', '1.6.2', '9+', 'Games', '40', '5', '1', '1']\n",
      "\n",
      "\n",
      "['284035177', 'Pandora - Music & Radio', '130242560', 'USD', '0.0', '1126879', '3594', '4.0', '4.5', '8.4.1', '12+', 'Music', '37', '4', '1', '1']\n",
      "\n",
      "\n",
      "['429047995', 'Pinterest', '74778624', 'USD', '0.0', '1061624', '1814', '4.5', '4.0', '6.26', '12+', 'Social Networking', '37', '5', '27', '1']\n",
      "\n",
      "\n",
      "['282935706', 'Bible', '92774400', 'USD', '0.0', '985920', '5320', '4.5', '5.0', '7.5.1', '4+', 'Reference', '37', '5', '45', '1']\n",
      "\n",
      "\n",
      "['553834731', 'Candy Crush Saga', '222846976', 'USD', '0.0', '961794', '2453', '4.5', '4.5', '1.101.0', '4+', 'Games', '43', '5', '24', '1']\n",
      "\n",
      "\n",
      "['324684580', 'Spotify Music', '132510720', 'USD', '0.0', '878563', '8253', '4.5', '4.5', '8.4.3', '12+', 'Music', '37', '5', '18', '1']\n",
      "\n",
      "\n",
      "Number of rows: 7198\n",
      "Number of columns: 16\n"
     ]
    }
   ],
   "source": [
    "# Use function explore_data on Apple Store Data\n",
    "explore_data(apple_store, 0, 10, rows_and_columns=True)"
   ]
  },
  {
   "cell_type": "markdown",
   "id": "5aedb4ec",
   "metadata": {},
   "source": [
    "The number of rows and number of columns print informs me that the Apple Store dataset has 7,198 rows and 16 columns.\n",
    "\n",
    "Apple Store column headers are `ID`, `track_name`, `size_bytes`, `currency`, `price`, `rating_count_tot`, `rating_count_ver`, `user_rating`, `user_rating_ver`, `ver`, `cont_rating`, `prime_genre`, `sup_devices.num`, i`padSc_urls.num`, `lang.num`, `vpp_lic`.\n",
    "\n",
    "The link below is where the apple store data can be found.  This describes in more detail the definitions of the headings __[Apple_Store_Definitions](https://www.kaggle.com/ramamet4/app-store-apple-data-set-10k-apps)__.\n",
    "\n",
    "The column headings are broken down as follows:\n",
    "\n",
    "\"id\" : App ID\n",
    "\n",
    "\"track_name\": App Name\n",
    "\n",
    "\"size_bytes\": Size (in Bytes)\n",
    "\n",
    "\"currency\": Currency Type\n",
    "\n",
    "\"price\": Price amount\n",
    "\n",
    "\"ratingcounttot\": User Rating counts (for all version)\n",
    "\n",
    "\"ratingcountver\": User Rating counts (for current version)\n",
    "\n",
    "\"user_rating\" : Average User Rating value (for all version)\n",
    "\n",
    "\"userratingver\": Average User Rating value (for current version)\n",
    "\n",
    "\"ver\" : Latest version code\n",
    "\n",
    "\"cont_rating\": Content Rating\n",
    "\n",
    "\"prime_genre\": Primary Genre\n",
    "\n",
    "\"sup_devices.num\": Number of supporting devices\n",
    "\n",
    "\"ipadSc_urls.num\": Number of screenshots showed for display\n",
    "\n",
    "\"lang.num\": Number of supported languages\n",
    "\n",
    "\"vpp_lic\": Vpp Device Based Licensing Enabled\n",
    "\n",
    "Looking through these the columns which appear to be most useful are `track_name`, `price`, `user_rating` and `prime_genre`."
   ]
  },
  {
   "cell_type": "code",
   "execution_count": 3,
   "id": "a9905ea6",
   "metadata": {},
   "outputs": [
    {
     "name": "stdout",
     "output_type": "stream",
     "text": [
      "['App', 'Category', 'Rating', 'Reviews', 'Size', 'Installs', 'Type', 'Price', 'Content Rating', 'Genres', 'Last Updated', 'Current Ver', 'Android Ver']\n",
      "\n",
      "\n",
      "['Photo Editor & Candy Camera & Grid & ScrapBook', 'ART_AND_DESIGN', '4.1', '159', '19M', '10,000+', 'Free', '0', 'Everyone', 'Art & Design', 'January 7, 2018', '1.0.0', '4.0.3 and up']\n",
      "\n",
      "\n",
      "['Coloring book moana', 'ART_AND_DESIGN', '3.9', '967', '14M', '500,000+', 'Free', '0', 'Everyone', 'Art & Design;Pretend Play', 'January 15, 2018', '2.0.0', '4.0.3 and up']\n",
      "\n",
      "\n",
      "['U Launcher Lite – FREE Live Cool Themes, Hide Apps', 'ART_AND_DESIGN', '4.7', '87510', '8.7M', '5,000,000+', 'Free', '0', 'Everyone', 'Art & Design', 'August 1, 2018', '1.2.4', '4.0.3 and up']\n",
      "\n",
      "\n",
      "['Sketch - Draw & Paint', 'ART_AND_DESIGN', '4.5', '215644', '25M', '50,000,000+', 'Free', '0', 'Teen', 'Art & Design', 'June 8, 2018', 'Varies with device', '4.2 and up']\n",
      "\n",
      "\n",
      "['Pixel Draw - Number Art Coloring Book', 'ART_AND_DESIGN', '4.3', '967', '2.8M', '100,000+', 'Free', '0', 'Everyone', 'Art & Design;Creativity', 'June 20, 2018', '1.1', '4.4 and up']\n",
      "\n",
      "\n",
      "['Paper flowers instructions', 'ART_AND_DESIGN', '4.4', '167', '5.6M', '50,000+', 'Free', '0', 'Everyone', 'Art & Design', 'March 26, 2017', '1.0', '2.3 and up']\n",
      "\n",
      "\n",
      "['Smoke Effect Photo Maker - Smoke Editor', 'ART_AND_DESIGN', '3.8', '178', '19M', '50,000+', 'Free', '0', 'Everyone', 'Art & Design', 'April 26, 2018', '1.1', '4.0.3 and up']\n",
      "\n",
      "\n",
      "['Infinite Painter', 'ART_AND_DESIGN', '4.1', '36815', '29M', '1,000,000+', 'Free', '0', 'Everyone', 'Art & Design', 'June 14, 2018', '6.1.61.1', '4.2 and up']\n",
      "\n",
      "\n",
      "['Garden Coloring Book', 'ART_AND_DESIGN', '4.4', '13791', '33M', '1,000,000+', 'Free', '0', 'Everyone', 'Art & Design', 'September 20, 2017', '2.9.2', '3.0 and up']\n",
      "\n",
      "\n",
      "Number of rows: 10842\n",
      "Number of columns: 13\n"
     ]
    }
   ],
   "source": [
    "# Use function explore data on Google Play Store Data\n",
    "explore_data(google_play_store, 0, 10, rows_and_columns=True)"
   ]
  },
  {
   "cell_type": "markdown",
   "id": "64457dd4",
   "metadata": {},
   "source": [
    "The above output shows us that the Google Play Store dataset holds 10,841 rows and 13 columns.\n",
    "\n",
    "The 13 column headings are `App`, `Category`, `Rating`, `Reviews`, `Size`, `Installs`, `Type`, `Price`, `Content Rating`, `Genres`, `Last Updated`, `Current Ver` and `Android Ver`.\n",
    "\n",
    "These column headings are more intuitive than the iOS data headings, however the difference between `Category` and `Genres` is unclear, as these seem synonymous.  A detailed look at the dataset can be found __[here](https://www.kaggle.com/datasets/lava18/google-play-store-apps)__.\n",
    "\n",
    "Looking through these, the columns which seem the most useful are `App`, `Category`, `Price`, `Installs`, `Rating` and `Genres`."
   ]
  },
  {
   "cell_type": "markdown",
   "id": "ade9fa31",
   "metadata": {},
   "source": [
    "# Data Cleaning"
   ]
  },
  {
   "cell_type": "markdown",
   "id": "c59385f1",
   "metadata": {},
   "source": [
    "In the section below I will delete any inaccurate data and correct or remove it and delete duplicate data and remove the duplicates.\n",
    "\n",
    "As the company only builds apps which are free to download and install and are designed for an English speaking audience, we will remove non-English apps and remove apps which are not free."
   ]
  },
  {
   "cell_type": "markdown",
   "id": "cc4c1a1b",
   "metadata": {},
   "source": [
    "### Identifying and Removing Missing Data"
   ]
  },
  {
   "cell_type": "markdown",
   "id": "27068d2f",
   "metadata": {},
   "source": [
    "This __[link](https://www.kaggle.com/lava18/google-play-store-apps/discussion/66015)__ informs us that entry 10472 for the Google Play Store data set has a missing entry.  In the code below I will print the row at that index to see if this is correct."
   ]
  },
  {
   "cell_type": "code",
   "execution_count": 4,
   "id": "07069ee4",
   "metadata": {},
   "outputs": [
    {
     "name": "stdout",
     "output_type": "stream",
     "text": [
      "['Life Made WI-Fi Touchscreen Photo Frame', '1.9', '19', '3.0M', '1,000+', 'Free', '0', 'Everyone', '', 'February 11, 2018', '1.0.19', '4.0 and up']\n"
     ]
    }
   ],
   "source": [
    "print(google_play_store[10473])"
   ]
  },
  {
   "cell_type": "markdown",
   "id": "1208ab8e",
   "metadata": {},
   "source": [
    "Here we can see that for the 'Rating' column the data does indeed lack an entry.  We must remove rows with errors and will therefore use the del statement to remove the row."
   ]
  },
  {
   "cell_type": "code",
   "execution_count": 5,
   "id": "e995b182",
   "metadata": {},
   "outputs": [],
   "source": [
    "del(google_play_store[10473])"
   ]
  },
  {
   "cell_type": "markdown",
   "id": "e3237083",
   "metadata": {},
   "source": [
    "Now the missing entry has been removed, I will now examine both datasets to determine if there are any missing rows.\n",
    "\n",
    "To do this I create function `identify_missing` which:\n",
    " - Takes the dataset as input\n",
    " - Loops over the rows in the dataset\n",
    " - If the lenght of the row does not match the lenght of the dataset heading the function will print the row."
   ]
  },
  {
   "cell_type": "code",
   "execution_count": 6,
   "id": "f41c1355",
   "metadata": {},
   "outputs": [],
   "source": [
    "def identify_missing(dataset):\n",
    "    for row in dataset[1:]:\n",
    "        if len(row) != len(dataset[0]):\n",
    "            print(dataset.index(row))\n",
    "            print(len(row))\n",
    "            \n",
    "identify_missing(google_play_store)\n",
    "identify_missing(apple_store)"
   ]
  },
  {
   "cell_type": "markdown",
   "id": "21f20d7f",
   "metadata": {},
   "source": [
    "As the function yielded no output, I have determined there are no more rows missing data."
   ]
  },
  {
   "cell_type": "markdown",
   "id": "f6257f12",
   "metadata": {},
   "source": [
    "## Identifying and Removing Duplicate Values"
   ]
  },
  {
   "cell_type": "markdown",
   "id": "8650336b",
   "metadata": {},
   "source": [
    "The google play store data set has duplicate values, while the apple store data set does not.  In the code below I will illustrate this.\n",
    "\n",
    "The code first initiates two empty lists called `duplicate_apps` and `unique_apps`.  It then loops through the dataset and determines if the app name exists in the `unique_apps` list.  If it does, it will be added to the `duplicate_apps` list.  If not, it will be added to the `unique_apps` list.  The `duplicate_apps` list will therefore be a list of all duplicated app names.\n",
    "\n",
    "The code then prints the number of duplicated apps in the list and splices the list to print the first 15 app names."
   ]
  },
  {
   "cell_type": "code",
   "execution_count": 7,
   "id": "e23283ff",
   "metadata": {
    "scrolled": true
   },
   "outputs": [
    {
     "name": "stdout",
     "output_type": "stream",
     "text": [
      "\u001b[1mNumber of duplicate apps Google Play:\u001b[0m 1181\n",
      "\n",
      "\n",
      "\u001b[1mExamples of duplicate apps Google Play:\u001b[0m ['Quick PDF Scanner + OCR FREE', 'Box', 'Google My Business', 'ZOOM Cloud Meetings', 'join.me - Simple Meetings', 'Box', 'Zenefits', 'Google Ads', 'Google My Business', 'Slack', 'FreshBooks Classic', 'Insightly CRM', 'QuickBooks Accounting: Invoicing & Expenses', 'HipChat - Chat Built for Teams', 'Xero Accounting Software']\n",
      "\n",
      "\n",
      "\u001b[1mNumber of duplicate apps Apple Store:\u001b[0m 0\n",
      "\n",
      "\n",
      "\u001b[1mExamples of duplicate apps Apple Store:\u001b[0m []\n"
     ]
    }
   ],
   "source": [
    "# Identify duplicate apps Google Play Store\n",
    "duplicate_apps = []\n",
    "unique_apps = []\n",
    "for app in google_play_store:\n",
    "    name = app[0]\n",
    "    if name in unique_apps:\n",
    "        duplicate_apps.append(name)\n",
    "    else:\n",
    "        unique_apps.append(name)\n",
    "print('\\033[1mNumber of duplicate apps Google Play:\\033[0m', len(duplicate_apps))\n",
    "print('\\n')\n",
    "print('\\033[1mExamples of duplicate apps Google Play:\\033[0m', duplicate_apps[:15])\n",
    "\n",
    "# Identify duplicate apps Apple Store\n",
    "duplicate_apps = []\n",
    "unique_apps = []\n",
    "for app in apple_store:\n",
    "    name = app[0]\n",
    "    if name in unique_apps:\n",
    "        duplicate_apps.append(name)\n",
    "    else:\n",
    "        unique_apps.append(name)\n",
    "print('\\n')\n",
    "print('\\033[1mNumber of duplicate apps Apple Store:\\033[0m', len(duplicate_apps))\n",
    "print('\\n')\n",
    "print('\\033[1mExamples of duplicate apps Apple Store:\\033[0m', duplicate_apps[:15])"
   ]
  },
  {
   "cell_type": "markdown",
   "id": "4323434e",
   "metadata": {},
   "source": [
    "The google play store has 1181 duplicate values, while the apple store has 0.  We now need to remove the duplicate values from the google play store, as we do not want these to distort the data set.\n",
    "\n",
    "The app 'Instagram' has several duplicate entries, please see below:"
   ]
  },
  {
   "cell_type": "code",
   "execution_count": 8,
   "id": "3b9be620",
   "metadata": {},
   "outputs": [
    {
     "name": "stdout",
     "output_type": "stream",
     "text": [
      "['Instagram', 'SOCIAL', '4.5', '66577313', 'Varies with device', '1,000,000,000+', 'Free', '0', 'Teen', 'Social', 'July 31, 2018', 'Varies with device', 'Varies with device']\n",
      "['Instagram', 'SOCIAL', '4.5', '66577446', 'Varies with device', '1,000,000,000+', 'Free', '0', 'Teen', 'Social', 'July 31, 2018', 'Varies with device', 'Varies with device']\n",
      "['Instagram', 'SOCIAL', '4.5', '66577313', 'Varies with device', '1,000,000,000+', 'Free', '0', 'Teen', 'Social', 'July 31, 2018', 'Varies with device', 'Varies with device']\n",
      "['Instagram', 'SOCIAL', '4.5', '66509917', 'Varies with device', '1,000,000,000+', 'Free', '0', 'Teen', 'Social', 'July 31, 2018', 'Varies with device', 'Varies with device']\n"
     ]
    }
   ],
   "source": [
    "for app in google_play_store:\n",
    "    name = app[0]\n",
    "    if name == 'Instagram':\n",
    "        print(app)"
   ]
  },
  {
   "cell_type": "markdown",
   "id": "4ba99114",
   "metadata": {},
   "source": [
    "Here we can see that the 'Reviews' data varies in each row.  The most recent data will have the highest number of reviews, therefore this is the data we want to keep."
   ]
  },
  {
   "cell_type": "markdown",
   "id": "acf771e2",
   "metadata": {},
   "source": [
    "Now we must create a new data set, in which we have removed the duplicate values.\n",
    "The first step of this is to create a dictionary in which each key is a unique app name and each value is the highest number of reviews.\n",
    "\n",
    "To create the below dictionary 'reviews_max' we used a for loop to loop through the data in the Google Play Store data and extract for each app the name of the app and the number of reviews value, which we converted into a float as a dictionary value cannot be string type.  We then used an if clause to determine if the app already exists in the 'reviews_max' dictionary and if the total number of reviews was higher for that app.  If these criteria were met, the app was added to the dictionary.\n",
    "\n",
    "We then used the elif function (still inside the for loop) to determine is the app was not in the 'reviews_max' dictionary.  It saves processing power to use the elif function as this means it is not run for every line and only for apps not previously looped through, which is the criteria we are interested in.  This adds any new apps to the dictionary with the app name as the key and the total number of reviews as the value.\n",
    "\n",
    "In the identifying step we determined that the dataset has 1181 duplicate values, therefore the length of the new dictionary should be equal to the length of the Google Play Store data minus 1181."
   ]
  },
  {
   "cell_type": "code",
   "execution_count": 9,
   "id": "03907c6c",
   "metadata": {},
   "outputs": [
    {
     "name": "stdout",
     "output_type": "stream",
     "text": [
      "\u001b[1mActual length:\u001b[0m 9659\n",
      "\u001b[1mExpected length:\u001b[0m 9659\n"
     ]
    }
   ],
   "source": [
    "reviews_max = {}\n",
    "for app in google_play_store[1:]:\n",
    "    name = app[0]\n",
    "    n_reviews = float(app[3])\n",
    "    if name in reviews_max and reviews_max[name] < n_reviews:\n",
    "        reviews_max[name] = n_reviews\n",
    "    elif name not in reviews_max:\n",
    "        reviews_max[name] = n_reviews\n",
    "print('\\033[1mActual length:\\033[0m', len(reviews_max))\n",
    "print('\\033[1mExpected length:\\033[0m', len(google_play_store[1:]) - 1181)\n",
    "    "
   ]
  },
  {
   "cell_type": "markdown",
   "id": "dbe64e91",
   "metadata": {},
   "source": [
    "Now we have created a dictionary containing the highest number of reviews for each app, we must use this to create a new list without duplicate apps.\n",
    "\n",
    "To do this we created two empty lists called 'android_clean' and 'already_added'.  We created a for loop which runs through each app in the Play Store data and isolates the app name and number of reviews.\n",
    "\n",
    "If the number of reviews for the app matches the number of reviews in the 'reviews_max' dictionary and the name is not in the already added list we added the row to the 'android_clean' list and the app name to the 'already_added' list.\n",
    "\n",
    "This leaves us with the 'android_clean' list, a new list of the Google Play Store data with duplicate values removed."
   ]
  },
  {
   "cell_type": "code",
   "execution_count": 10,
   "id": "67243e83",
   "metadata": {},
   "outputs": [
    {
     "name": "stdout",
     "output_type": "stream",
     "text": [
      "\u001b[1mActual length:\u001b[0m 9659\n",
      "\u001b[1mExpected length:\u001b[0m 9659\n"
     ]
    }
   ],
   "source": [
    "android_clean = []\n",
    "already_added = []\n",
    "\n",
    "for app in google_play_store[1:]:\n",
    "    name = app[0]\n",
    "    n_reviews = float(app[3])\n",
    "    \n",
    "    if (reviews_max[name] == n_reviews) and (name not in already_added):\n",
    "        android_clean.append(app)\n",
    "        already_added.append(name)\n",
    "\n",
    "print('\\033[1mActual length:\\033[0m', len(android_clean))\n",
    "print('\\033[1mExpected length:\\033[0m', len(google_play_store[1:]) - 1181)\n"
   ]
  },
  {
   "cell_type": "markdown",
   "id": "95d0b1a8",
   "metadata": {},
   "source": [
    "### Identify and Remove Non English Apps"
   ]
  },
  {
   "cell_type": "markdown",
   "id": "4a536ea2",
   "metadata": {},
   "source": [
    "Now we will identify and remove apps which are not English.  We are not interested in these apps as the company develops apps for English speaking audiences.\n",
    "\n",
    "To do this we will identify and remove apps containing non English characters."
   ]
  },
  {
   "cell_type": "markdown",
   "id": "50cfe24f",
   "metadata": {},
   "source": [
    "In the section below we create the function 'Identify_English_Character' which returns the booleans True if characters in string are English or False if characters are not English.\n",
    "\n",
    "Each string character is associated with a corresponding number.  We can use the built in ord() function to call the corresponding number.  Please see below"
   ]
  },
  {
   "cell_type": "code",
   "execution_count": 11,
   "id": "7d2ec7eb",
   "metadata": {},
   "outputs": [
    {
     "name": "stdout",
     "output_type": "stream",
     "text": [
      "97\n",
      "65\n",
      "51\n",
      "42\n",
      "29233\n",
      "233\n"
     ]
    }
   ],
   "source": [
    "print(ord('a'))\n",
    "print(ord('A'))\n",
    "print(ord('3'))\n",
    "print(ord('*'))\n",
    "print(ord('爱'))\n",
    "print(ord('é'))"
   ]
  },
  {
   "cell_type": "markdown",
   "id": "ab805584",
   "metadata": {},
   "source": [
    "We know that according to the ASCII(American Standard Code for Information Interchange) system, the corresponding number range for English characters are 0 to 127 so we can use the ord function to identify string with characters outside of and inside of this range.\n",
    "\n",
    "The corresponding number for 'é' is 233, which falls outside of this range, therefore we know that languages using the Latin Alphabet with umlauts included in the string will be excluded.  This means however, that non-English language apps containing only standard English characters will still be included. - will this be addressed later?\n",
    "\n",
    "The below 'Identify_English_Character' function takes string as an input and within a for loop iterates through each character to determine if the character has a corresponding number greater than 127 (non-English Character) and returns False if these conditions are met and True if they are not met.  Therefore, the function will return True for English Character app names.\n",
    "\n",
    "We demonstrate the functions versatility by using it on the below app names:\n",
    " - 'Instagram'\n",
    " - '爱奇艺PPS -《欢乐颂2》电视剧热播'\n",
    " - 'Docs To Go™ Free Office Suite'\n",
    " - 'Instachat 😜'"
   ]
  },
  {
   "cell_type": "code",
   "execution_count": 12,
   "id": "27e44975",
   "metadata": {
    "scrolled": true
   },
   "outputs": [
    {
     "name": "stdout",
     "output_type": "stream",
     "text": [
      "True\n",
      "False\n",
      "False\n",
      "False\n"
     ]
    }
   ],
   "source": [
    "def Identify_English_Charachter(string):\n",
    "    for character in string:\n",
    "        if ord(character) > 127:\n",
    "            return(False)\n",
    "        \n",
    "    return(True)\n",
    "print(Identify_English_Charachter('Instagram'))\n",
    "print(Identify_English_Charachter('爱奇艺PPS -《欢乐颂2》电视剧热播'))\n",
    "print(Identify_English_Charachter('Docs To Go™ Free Office Suite'))\n",
    "print(Identify_English_Charachter('Instachat 😜'))"
   ]
  },
  {
   "cell_type": "markdown",
   "id": "67aca5fc",
   "metadata": {},
   "source": [
    "In the examples above although the two final examples are English apps which we would want to include, they contain characters which fall outside the ASCII range as their corresponding numbers are above 127.  Please see below."
   ]
  },
  {
   "cell_type": "code",
   "execution_count": 13,
   "id": "a5e74e9d",
   "metadata": {},
   "outputs": [
    {
     "name": "stdout",
     "output_type": "stream",
     "text": [
      "8482\n",
      "128540\n"
     ]
    }
   ],
   "source": [
    "print(ord('™'))\n",
    "print(ord('😜'))"
   ]
  },
  {
   "cell_type": "markdown",
   "id": "d9499ca8",
   "metadata": {},
   "source": [
    "In order to minimise data loss from excluding apps with such characters, we will only remove apps containing 3 or more non-English characters.  This is not perfect, for example non-English apps of 3 characters or less will still be included and English apps of over 3 characters outside of the ASCII range will be excluded, however this will minimise the data loss and is functional for the purposes of this study.\n",
    "\n",
    "We will now rewrite the function below and test it using the same app names."
   ]
  },
  {
   "cell_type": "code",
   "execution_count": 14,
   "id": "1acf593a",
   "metadata": {
    "scrolled": true
   },
   "outputs": [
    {
     "name": "stdout",
     "output_type": "stream",
     "text": [
      "True\n",
      "False\n",
      "True\n",
      "True\n"
     ]
    }
   ],
   "source": [
    "def Identify_English_Character(string):\n",
    "    non_ascii = 0\n",
    "    \n",
    "    for character in string:\n",
    "        if ord(character) > 127:\n",
    "            non_ascii += 1\n",
    "\n",
    "    if non_ascii > 3:\n",
    "        return False\n",
    "    else:\n",
    "        return True\n",
    "print(Identify_English_Character('Instagram'))\n",
    "print(Identify_English_Character('爱奇艺PPS -《欢乐颂2》电视剧热播'))\n",
    "print(Identify_English_Character('Docs To Go™ Free Office Suite'))\n",
    "print(Identify_English_Character('Instachat 😜'))"
   ]
  },
  {
   "cell_type": "markdown",
   "id": "36c150a7",
   "metadata": {},
   "source": [
    "We can see that the 'Identify_English_Character' function now works in the way we want it to.  In the code below we will apply this to our two datasets by looping through these and appending English apps to two empty lists which will be the updated lists for our data.\n",
    "\n",
    "We will then use the 'explore_data' function we created previously to print a slice of the data and return the length of the dataset and number of columns."
   ]
  },
  {
   "cell_type": "code",
   "execution_count": 15,
   "id": "9d818441",
   "metadata": {},
   "outputs": [
    {
     "name": "stdout",
     "output_type": "stream",
     "text": [
      "['Photo Editor & Candy Camera & Grid & ScrapBook', 'ART_AND_DESIGN', '4.1', '159', '19M', '10,000+', 'Free', '0', 'Everyone', 'Art & Design', 'January 7, 2018', '1.0.0', '4.0.3 and up']\n",
      "\n",
      "\n",
      "['U Launcher Lite – FREE Live Cool Themes, Hide Apps', 'ART_AND_DESIGN', '4.7', '87510', '8.7M', '5,000,000+', 'Free', '0', 'Everyone', 'Art & Design', 'August 1, 2018', '1.2.4', '4.0.3 and up']\n",
      "\n",
      "\n",
      "['Sketch - Draw & Paint', 'ART_AND_DESIGN', '4.5', '215644', '25M', '50,000,000+', 'Free', '0', 'Teen', 'Art & Design', 'June 8, 2018', 'Varies with device', '4.2 and up']\n",
      "\n",
      "\n",
      "Number of rows: 9614\n",
      "Number of columns: 13\n",
      "\n",
      "\n",
      "['284882215', 'Facebook', '389879808', 'USD', '0.0', '2974676', '212', '3.5', '3.5', '95.0', '4+', 'Social Networking', '37', '1', '29', '1']\n",
      "\n",
      "\n",
      "['389801252', 'Instagram', '113954816', 'USD', '0.0', '2161558', '1289', '4.5', '4.0', '10.23', '12+', 'Photo & Video', '37', '0', '29', '1']\n",
      "\n",
      "\n",
      "['529479190', 'Clash of Clans', '116476928', 'USD', '0.0', '2130805', '579', '4.5', '4.5', '9.24.12', '9+', 'Games', '38', '5', '18', '1']\n",
      "\n",
      "\n",
      "Number of rows: 6183\n",
      "Number of columns: 16\n"
     ]
    }
   ],
   "source": [
    "android_English = []\n",
    "iOS_English = []\n",
    "for app in android_clean:\n",
    "    name = app[0]\n",
    "    if Identify_English_Character(name):\n",
    "        android_English.append(app)\n",
    "for app in apple_store[1:]:\n",
    "    name = app[1]\n",
    "    if Identify_English_Character(name):\n",
    "        iOS_English.append(app)\n",
    "\n",
    "explore_data(android_English, 0, 3, True)\n",
    "print('\\n')\n",
    "explore_data(iOS_English, 0, 3, True)"
   ]
  },
  {
   "cell_type": "markdown",
   "id": "390d032b",
   "metadata": {},
   "source": [
    "### Remove non-Free Apps"
   ]
  },
  {
   "cell_type": "markdown",
   "id": "6a3d149c",
   "metadata": {},
   "source": [
    "Previously we mentioned that we are only interested in free apps.  Therefore we need to exclude apps with a price that does not equal 0.\n",
    "\n",
    "In the section below we will use an if statement within a for loop to loop through the data extracted above to isolate free apps in both data sets.  I will then count the number of apps in the new datasets."
   ]
  },
  {
   "cell_type": "code",
   "execution_count": 16,
   "id": "c4014536",
   "metadata": {},
   "outputs": [
    {
     "name": "stdout",
     "output_type": "stream",
     "text": [
      "[['Photo Editor & Candy Camera & Grid & ScrapBook', 'ART_AND_DESIGN', '4.1', '159', '19M', '10,000+', 'Free', '0', 'Everyone', 'Art & Design', 'January 7, 2018', '1.0.0', '4.0.3 and up'], ['U Launcher Lite – FREE Live Cool Themes, Hide Apps', 'ART_AND_DESIGN', '4.7', '87510', '8.7M', '5,000,000+', 'Free', '0', 'Everyone', 'Art & Design', 'August 1, 2018', '1.2.4', '4.0.3 and up'], ['Sketch - Draw & Paint', 'ART_AND_DESIGN', '4.5', '215644', '25M', '50,000,000+', 'Free', '0', 'Teen', 'Art & Design', 'June 8, 2018', 'Varies with device', '4.2 and up'], ['Pixel Draw - Number Art Coloring Book', 'ART_AND_DESIGN', '4.3', '967', '2.8M', '100,000+', 'Free', '0', 'Everyone', 'Art & Design;Creativity', 'June 20, 2018', '1.1', '4.4 and up'], ['Paper flowers instructions', 'ART_AND_DESIGN', '4.4', '167', '5.6M', '50,000+', 'Free', '0', 'Everyone', 'Art & Design', 'March 26, 2017', '1.0', '2.3 and up']]\n",
      "[['284882215', 'Facebook', '389879808', 'USD', '0.0', '2974676', '212', '3.5', '3.5', '95.0', '4+', 'Social Networking', '37', '1', '29', '1'], ['389801252', 'Instagram', '113954816', 'USD', '0.0', '2161558', '1289', '4.5', '4.0', '10.23', '12+', 'Photo & Video', '37', '0', '29', '1'], ['529479190', 'Clash of Clans', '116476928', 'USD', '0.0', '2130805', '579', '4.5', '4.5', '9.24.12', '9+', 'Games', '38', '5', '18', '1'], ['420009108', 'Temple Run', '65921024', 'USD', '0.0', '1724546', '3842', '4.5', '4.0', '1.6.2', '9+', 'Games', '40', '5', '1', '1'], ['284035177', 'Pandora - Music & Radio', '130242560', 'USD', '0.0', '1126879', '3594', '4.0', '4.5', '8.4.1', '12+', 'Music', '37', '4', '1', '1']]\n",
      "\n",
      "\n",
      "\u001b[1mLength Android: \u001b[0m 8863\n",
      "\n",
      "\n",
      "\u001b[1mLength iOS: \u001b[0m 3222\n"
     ]
    }
   ],
   "source": [
    "Android_Data = []\n",
    "for app in android_English:\n",
    "    price = app[6]\n",
    "    if 'Free' in price:\n",
    "        Android_Data.append(app)\n",
    "print(Android_Data[0:5])\n",
    "\n",
    "iOS_Data = []\n",
    "for app in iOS_English:\n",
    "    price = app[4]\n",
    "    if '0.0' in price:\n",
    "        iOS_Data.append(app)\n",
    "print(iOS_Data[0:5])\n",
    "print('\\n')\n",
    "print('\\033[1mLength Android: \\033[0m',len(Android_Data))\n",
    "print('\\n')\n",
    "print('\\033[1mLength iOS: \\033[0m',len(iOS_Data))\n",
    "\n",
    "\n"
   ]
  },
  {
   "cell_type": "markdown",
   "id": "54ababae",
   "metadata": {},
   "source": [
    "We are left with 8863 Google Play Store apps and 3222 Apple Store apps."
   ]
  },
  {
   "cell_type": "markdown",
   "id": "ef80b6fa",
   "metadata": {},
   "source": [
    "## Summary"
   ]
  },
  {
   "cell_type": "markdown",
   "id": "8fa8d671",
   "metadata": {},
   "source": [
    "To summarise the section above, we first removed incomplete entries by excluding entries whose length did not match the number of headings.  We then removed removed duplicate entries from our data by identifying and isolating the most recent reviews.  Then, we removed non English apps from our data sets using the ord function to identify non-English characters.  Finally we removed non-Free apps.  This leaves us with the 'Android_Data' and 'iOS_Data' data sets."
   ]
  },
  {
   "cell_type": "markdown",
   "id": "91ac1098",
   "metadata": {},
   "source": [
    "# Analysis"
   ]
  },
  {
   "cell_type": "markdown",
   "id": "ef77bbc8",
   "metadata": {},
   "source": [
    "In order to minimise potential risks and keep overheads low our validation strategy for an app idea will do the following:\n",
    " - Build and launch a basic Android version of the app to the Google Play Store\n",
    " - If the app is popular we will develop it further\n",
    "  - If the app is profitable after 6 months we will build and launch an iOS version to the App Store\n",
    "\n",
    "As we intend to make an app available on both Goodle Play and the App Store, we must identify apps which are successful on both.\n",
    "\n",
    "To do this we will begin by determining the most common genres on both stores."
   ]
  },
  {
   "cell_type": "markdown",
   "id": "974c2683",
   "metadata": {},
   "source": [
    "### Most Common Genres"
   ]
  },
  {
   "cell_type": "markdown",
   "id": "6ef7998f",
   "metadata": {},
   "source": [
    "Now we have cleaned our data we are left with two datasets which will be our focus for the analysis, containing only apps which are free to download and are in English.  These apps are free from column headings, so each row contains data on an app:\n",
    " - `Android_Data`\n",
    " - `iOS_Data`\n",
    " \n",
    " Firstly, we will take a look at the original headings below."
   ]
  },
  {
   "cell_type": "code",
   "execution_count": 17,
   "id": "333718c9",
   "metadata": {},
   "outputs": [
    {
     "name": "stdout",
     "output_type": "stream",
     "text": [
      "\u001b[1mAndroid_Data Column Headings: \u001b[0m ['App', 'Category', 'Rating', 'Reviews', 'Size', 'Installs', 'Type', 'Price', 'Content Rating', 'Genres', 'Last Updated', 'Current Ver', 'Android Ver']\n",
      "\n",
      "\n",
      "\u001b[1miOS_Data Column Headings: \u001b[0m ['id', 'track_name', 'size_bytes', 'currency', 'price', 'rating_count_tot', 'rating_count_ver', 'user_rating', 'user_rating_ver', 'ver', 'cont_rating', 'prime_genre', 'sup_devices.num', 'ipadSc_urls.num', 'lang.num', 'vpp_lic']\n"
     ]
    }
   ],
   "source": [
    "print('\\033[1mAndroid_Data Column Headings: \\033[0m', google_play_store[0])\n",
    "print('\\n')\n",
    "print('\\033[1miOS_Data Column Headings: \\033[0m', apple_store[0])"
   ]
  },
  {
   "cell_type": "markdown",
   "id": "88487b51",
   "metadata": {},
   "source": [
    "[Explore Data](#Explore-Data) As you may remember, in the Explore Data section we included a breakdown of the Apple Store data headings.\n",
    "\n",
    "To identify the most popular app type the following headings will be important:\n",
    "- Apple Store Data\n",
    "    - `prime_genre`\n",
    "\n",
    "- Google Play Store Data\n",
    "    - `Category`\n",
    "    - `Genres`"
   ]
  },
  {
   "cell_type": "markdown",
   "id": "bc12dff6",
   "metadata": {},
   "source": [
    "### Genre Frequency"
   ]
  },
  {
   "cell_type": "markdown",
   "id": "bb4f94b9",
   "metadata": {},
   "source": [
    "The easiest way to determine the proportion of genres within the datasets is using a frequency table.\n",
    "\n",
    "In the section below we create `freq_table` function which:\n",
    "- Generates a frequency table of genres displaying percentage\n",
    "- Takes as input the dataset and an index\n",
    "- Initiates an empty frequency table `genre_counting`\n",
    "- Calculates the length of the dataset\n",
    "- Assigns the value 0 to a variable named `total`\n",
    "- Loops through the dataset and for each row:\n",
    "    - Adds 1 to the variable total\n",
    "    - Assignes the value at the given index to a variable named genre. At index 11 for the `iOS_Data` genre will be the `prime_genre`.  For the `Android_Data` at index 1 genre will be `Category` and at index 9 will be `Genres`\n",
    "    - If the genre exists in the `genre_counting` table at the key for that genre will increase value by 1\n",
    "    - If the genre does not exist in the `genre_counting` table will create a key within the `genre_counting` table named after the current genre and assigns the value 1 to the key.\n",
    " - Outside of the for loop initiates a new dictionary called `genre_counting_percentages`\n",
    " - loops through the `genre_counting` dictionary to calculate the percentage of apps which fall under that genre\n",
    " - Assigns the percentage value to each genre key in `genre_counting_percentages`\n",
    " - Returns `genre_counting_percentages`\n",
    "\n",
    "We then create function `display_table` which:\n",
    " - Takes as input a dataset and index\n",
    " - Uses the `freq_table` function with the dataset and inex as input and returns `table` - `genre_counting_percentages`\n",
    " - Initiates empty table `table_display`\n",
    " - Loops through table to transform dictionary into tuple for each key and append the tuple onto `table_display`\n",
    "- Uses the sorted function to display percentages in descending order as `table_sorted`\n",
    "- Within the loop prints each entry in `table_sorted`\n",
    "\n",
    "The second function makes use of the sorting function to sort in reverse, however this function sorts by dictionary keys and we want to sort by values to display the most common apps first.  As a work around we transformed the dictionary into a list of tuples, where each tuple contained dictionary key and corresponding value."
   ]
  },
  {
   "cell_type": "code",
   "execution_count": 18,
   "id": "74aeb28c",
   "metadata": {},
   "outputs": [
    {
     "name": "stdout",
     "output_type": "stream",
     "text": [
      "\u001b[1miOS_Data prime_genre Percentages\u001b[0m\n",
      "Games : 58.16263190564867\n",
      "Entertainment : 7.883302296710118\n",
      "Photo & Video : 4.9658597144630665\n",
      "Education : 3.662321539416512\n",
      "Social Networking : 3.2898820608317814\n",
      "Shopping : 2.60707635009311\n",
      "Utilities : 2.5139664804469275\n",
      "Sports : 2.1415270018621975\n",
      "Music : 2.0484171322160147\n",
      "Health & Fitness : 2.0173805090006205\n",
      "Productivity : 1.7380509000620732\n",
      "Lifestyle : 1.5828677839851024\n",
      "News : 1.3345747982619491\n",
      "Travel : 1.2414649286157666\n",
      "Finance : 1.1173184357541899\n",
      "Weather : 0.8690254500310366\n",
      "Food & Drink : 0.8069522036002483\n",
      "Reference : 0.5586592178770949\n",
      "Business : 0.5276225946617008\n",
      "Book : 0.4345127250155183\n",
      "Navigation : 0.186219739292365\n",
      "Medical : 0.186219739292365\n",
      "Catalogs : 0.12414649286157665\n",
      "None\n"
     ]
    }
   ],
   "source": [
    "# Create function freq_table\n",
    "def freq_table(dataset, index):\n",
    "    total_number_of_apps = len(dataset)\n",
    "    genre_counting = {}\n",
    "    total = 0\n",
    "    for row in dataset:\n",
    "        total += 1\n",
    "        genre = row[index]\n",
    "        if genre in genre_counting:\n",
    "            genre_counting[genre] += 1\n",
    "        else:\n",
    "            genre_counting[genre] = 1\n",
    "            \n",
    "    genre_counting_percentages = {}\n",
    "    for key in genre_counting:\n",
    "        percentage = (genre_counting[key] / total) * 100\n",
    "        genre_counting_percentages[key] = percentage\n",
    "        \n",
    "    return genre_counting_percentages\n",
    "\n",
    "# Create function display_table\n",
    "def display_table(dataset, index):\n",
    "    table = freq_table(dataset, index)\n",
    "    table_display = []\n",
    "    for key in table:\n",
    "        key_val_as_tuple = (table[key], key)\n",
    "        table_display.append(key_val_as_tuple)\n",
    "\n",
    "    table_sorted = sorted(table_display, reverse = True)\n",
    "    for entry in table_sorted:\n",
    "        print(entry[1], ':', entry[0])\n",
    "\n",
    "print('\\033[1miOS_Data prime_genre Percentages\\033[0m')\n",
    "print(display_table(iOS_Data, 11))"
   ]
  },
  {
   "cell_type": "code",
   "execution_count": 19,
   "id": "6ac1998d",
   "metadata": {},
   "outputs": [
    {
     "name": "stdout",
     "output_type": "stream",
     "text": [
      "\u001b[1mAndroid_Data Category Percentages\u001b[0m\n",
      "FAMILY : 18.898792733837304\n",
      "GAME : 9.725826469592688\n",
      "TOOLS : 8.462146000225657\n",
      "BUSINESS : 4.592124562789123\n",
      "LIFESTYLE : 3.9038700214374367\n",
      "PRODUCTIVITY : 3.8925871601038025\n",
      "FINANCE : 3.7007785174320205\n",
      "MEDICAL : 3.5315355974275078\n",
      "SPORTS : 3.396141261423897\n",
      "PERSONALIZATION : 3.317161232088458\n",
      "COMMUNICATION : 3.2381812027530184\n",
      "HEALTH_AND_FITNESS : 3.0802211440821394\n",
      "PHOTOGRAPHY : 2.944826808078529\n",
      "NEWS_AND_MAGAZINES : 2.798149610741284\n",
      "SOCIAL : 2.6627552747376737\n",
      "TRAVEL_AND_LOCAL : 2.335552296062281\n",
      "SHOPPING : 2.245289405393208\n",
      "BOOKS_AND_REFERENCE : 2.1437436533904997\n",
      "DATING : 1.8616721200496444\n",
      "VIDEO_PLAYERS : 1.7939749520478394\n",
      "MAPS_AND_NAVIGATION : 1.399074805370642\n",
      "FOOD_AND_DRINK : 1.241114746699763\n",
      "EDUCATION : 1.1621347173643235\n",
      "ENTERTAINMENT : 0.9590432133589079\n",
      "LIBRARIES_AND_DEMO : 0.9364774906916393\n",
      "AUTO_AND_VEHICLES : 0.9251946293580051\n",
      "HOUSE_AND_HOME : 0.8236488773552973\n",
      "WEATHER : 0.8010831546880289\n",
      "EVENTS : 0.7108202640189552\n",
      "PARENTING : 0.6544059573507841\n",
      "ART_AND_DESIGN : 0.6431230960171499\n",
      "COMICS : 0.6205573733498815\n",
      "BEAUTY : 0.5979916506826132\n",
      "None\n"
     ]
    }
   ],
   "source": [
    "print('\\033[1mAndroid_Data Category Percentages\\033[0m')\n",
    "print(display_table(Android_Data, 1))"
   ]
  },
  {
   "cell_type": "code",
   "execution_count": 20,
   "id": "ccca0bbc",
   "metadata": {},
   "outputs": [
    {
     "name": "stdout",
     "output_type": "stream",
     "text": [
      "\u001b[1mAndroid_Data Genres Percentages\u001b[0m\n",
      "Tools : 8.450863138892023\n",
      "Entertainment : 6.070179397495204\n",
      "Education : 5.348076272142616\n",
      "Business : 4.592124562789123\n",
      "Productivity : 3.8925871601038025\n",
      "Lifestyle : 3.8925871601038025\n",
      "Finance : 3.7007785174320205\n",
      "Medical : 3.5315355974275078\n",
      "Sports : 3.463838429425702\n",
      "Personalization : 3.317161232088458\n",
      "Communication : 3.2381812027530184\n",
      "Action : 3.102786866749408\n",
      "Health & Fitness : 3.0802211440821394\n",
      "Photography : 2.944826808078529\n",
      "News & Magazines : 2.798149610741284\n",
      "Social : 2.6627552747376737\n",
      "Travel & Local : 2.324269434728647\n",
      "Shopping : 2.245289405393208\n",
      "Books & Reference : 2.1437436533904997\n",
      "Simulation : 2.042197901387792\n",
      "Dating : 1.8616721200496444\n",
      "Arcade : 1.8503892587160102\n",
      "Video Players & Editors : 1.771409229380571\n",
      "Casual : 1.7601263680469368\n",
      "Maps & Navigation : 1.399074805370642\n",
      "Food & Drink : 1.241114746699763\n",
      "Puzzle : 1.128286133363421\n",
      "Racing : 0.9928917973598104\n",
      "Role Playing : 0.9364774906916393\n",
      "Libraries & Demo : 0.9364774906916393\n",
      "Auto & Vehicles : 0.9251946293580051\n",
      "Strategy : 0.9026289066907368\n",
      "House & Home : 0.8236488773552973\n",
      "Weather : 0.8010831546880289\n",
      "Events : 0.7108202640189552\n",
      "Adventure : 0.6769716800180525\n",
      "Comics : 0.6092745120162473\n",
      "Beauty : 0.5979916506826132\n",
      "Art & Design : 0.5979916506826132\n",
      "Parenting : 0.4964458986799052\n",
      "Card : 0.4513144533453684\n",
      "Casino : 0.42874873067809993\n",
      "Trivia : 0.4174658693444658\n",
      "Educational;Education : 0.3949001466771973\n",
      "Board : 0.38361728534356315\n",
      "Educational : 0.37233442400992894\n",
      "Education;Education : 0.33848584000902626\n",
      "Word : 0.25950581067358686\n",
      "Casual;Pretend Play : 0.2369400880063184\n",
      "Music : 0.20309150400541578\n",
      "Racing;Action & Adventure : 0.16924292000451313\n",
      "Puzzle;Brain Games : 0.16924292000451313\n",
      "Entertainment;Music & Video : 0.16924292000451313\n",
      "Casual;Brain Games : 0.1353943360036105\n",
      "Casual;Action & Adventure : 0.1353943360036105\n",
      "Arcade;Action & Adventure : 0.1241114746699763\n",
      "Action;Action & Adventure : 0.10154575200270789\n",
      "Educational;Pretend Play : 0.09026289066907367\n",
      "Simulation;Action & Adventure : 0.07898002933543948\n",
      "Parenting;Education : 0.07898002933543948\n",
      "Entertainment;Brain Games : 0.07898002933543948\n",
      "Board;Brain Games : 0.07898002933543948\n",
      "Parenting;Music & Video : 0.06769716800180525\n",
      "Educational;Brain Games : 0.06769716800180525\n",
      "Casual;Creativity : 0.06769716800180525\n",
      "Art & Design;Creativity : 0.06769716800180525\n",
      "Education;Pretend Play : 0.05641430666817105\n",
      "Role Playing;Pretend Play : 0.045131445334536835\n",
      "Education;Creativity : 0.045131445334536835\n",
      "Role Playing;Action & Adventure : 0.033848584000902626\n",
      "Puzzle;Action & Adventure : 0.033848584000902626\n",
      "Entertainment;Creativity : 0.033848584000902626\n",
      "Entertainment;Action & Adventure : 0.033848584000902626\n",
      "Educational;Creativity : 0.033848584000902626\n",
      "Educational;Action & Adventure : 0.033848584000902626\n",
      "Education;Music & Video : 0.033848584000902626\n",
      "Education;Brain Games : 0.033848584000902626\n",
      "Education;Action & Adventure : 0.033848584000902626\n",
      "Adventure;Action & Adventure : 0.033848584000902626\n",
      "Video Players & Editors;Music & Video : 0.022565722667268417\n",
      "Sports;Action & Adventure : 0.022565722667268417\n",
      "Simulation;Pretend Play : 0.022565722667268417\n",
      "Puzzle;Creativity : 0.022565722667268417\n",
      "Music;Music & Video : 0.022565722667268417\n",
      "Entertainment;Pretend Play : 0.022565722667268417\n",
      "Casual;Education : 0.022565722667268417\n",
      "Board;Action & Adventure : 0.022565722667268417\n",
      "Video Players & Editors;Creativity : 0.011282861333634209\n",
      "Trivia;Education : 0.011282861333634209\n",
      "Travel & Local;Action & Adventure : 0.011282861333634209\n",
      "Tools;Education : 0.011282861333634209\n",
      "Strategy;Education : 0.011282861333634209\n",
      "Strategy;Creativity : 0.011282861333634209\n",
      "Strategy;Action & Adventure : 0.011282861333634209\n",
      "Simulation;Education : 0.011282861333634209\n",
      "Role Playing;Brain Games : 0.011282861333634209\n",
      "Racing;Pretend Play : 0.011282861333634209\n",
      "Puzzle;Education : 0.011282861333634209\n",
      "Parenting;Brain Games : 0.011282861333634209\n",
      "Music & Audio;Music & Video : 0.011282861333634209\n",
      "Lifestyle;Pretend Play : 0.011282861333634209\n",
      "Lifestyle;Education : 0.011282861333634209\n",
      "Health & Fitness;Education : 0.011282861333634209\n",
      "Health & Fitness;Action & Adventure : 0.011282861333634209\n",
      "Entertainment;Education : 0.011282861333634209\n",
      "Communication;Creativity : 0.011282861333634209\n",
      "Comics;Creativity : 0.011282861333634209\n",
      "Casual;Music & Video : 0.011282861333634209\n",
      "Card;Action & Adventure : 0.011282861333634209\n",
      "Books & Reference;Education : 0.011282861333634209\n",
      "Art & Design;Pretend Play : 0.011282861333634209\n",
      "Art & Design;Action & Adventure : 0.011282861333634209\n",
      "Arcade;Pretend Play : 0.011282861333634209\n",
      "Adventure;Education : 0.011282861333634209\n"
     ]
    }
   ],
   "source": [
    "print('\\033[1mAndroid_Data Genres Percentages\\033[0m')\n",
    "(display_table(Android_Data, 9))"
   ]
  },
  {
   "cell_type": "markdown",
   "id": "d758552d",
   "metadata": {},
   "source": [
    "\n",
    "### What does this tell us?\n",
    "***App Store***\n",
    "The most common genre is games at 58%, over half of the apps on the app store.  Entertainment comes in second at just under 8%, followed by photo and video at almost 5%.\n",
    "\n",
    "The most common apps on the App Store are for entertainment purposes (Games, Photo and Video, Entertainment, Photo & Video), while there are far fewer practical apps (Weather, News, Finance, Reference).  Although entertainment apps are more frequent, this does not show us whether these have a larger number of users.\n",
    "\n",
    "***Google Play Store***\n",
    "Unlike the App Store, the Google Play store seems to have more apps for practical purposes than entertainment.\n",
    "\n",
    "The most popular category is Family (19%), which is an unclear definition.  This is followed by Game at almost 10% and Tools (8%) and Business (6%).\n",
    "\n",
    "This conclusion is supported by the genres frequency table, which shows a greater percentage dedicated to tools (8%) than entertainment (6%).\n",
    "\n",
    "Interestingly, the Google Play Store (unlike the app store) does not have one largely dominant category and seems to be more balanced.\n",
    "\n",
    "The conclusions we draw here are based on an analysis of free English apps, so these cannot be extrapolated to paid or non English apps.\n"
   ]
  },
  {
   "cell_type": "markdown",
   "id": "645f7516",
   "metadata": {},
   "source": [
    "### Average Number of Installs App Store"
   ]
  },
  {
   "cell_type": "markdown",
   "id": "6a99900c",
   "metadata": {},
   "source": [
    "The conclusion above identifies which genres which have the most apps in them, however we are interested in which apps will be the most popular.  To do this we need to determine which genres have the highest average number of installs.\n",
    "\n",
    "For the android data set we can use the `Installs` columnm, which will give us the number of installs for each app.\n",
    "\n",
    "The iOS data does not have this information, so for this we will need to estimate these.  We will use the `rating_count_tot` column as as approximate value, as the more ratings an app has the more users it will have."
   ]
  },
  {
   "cell_type": "markdown",
   "id": "a7067e9d",
   "metadata": {},
   "source": [
    "To begin we will calculate the average number of user ratings per `prime_genre` in the iOS dataset.\n",
    "\n",
    "In the below section we will isolate the apps for each genre, calculate the total user ratings of apps in that genre and divide this by the number of apps in the genre to give us the average number of ratings for each genre."
   ]
  },
  {
   "cell_type": "code",
   "execution_count": 21,
   "id": "028be523",
   "metadata": {},
   "outputs": [
    {
     "name": "stdout",
     "output_type": "stream",
     "text": [
      "Navigation : 86090.33333333333\n",
      "Reference : 74942.11111111111\n",
      "Social Networking : 71548.34905660378\n",
      "Music : 57326.530303030304\n",
      "Weather : 52279.892857142855\n",
      "Book : 39758.5\n",
      "Food & Drink : 33333.92307692308\n",
      "Finance : 31467.944444444445\n",
      "Photo & Video : 28441.54375\n",
      "Travel : 28243.8\n",
      "Shopping : 26919.690476190477\n",
      "Health & Fitness : 23298.015384615384\n",
      "Sports : 23008.898550724636\n",
      "Games : 22788.6696905016\n",
      "News : 21248.023255813954\n",
      "Productivity : 21028.410714285714\n",
      "Utilities : 18684.456790123455\n",
      "Lifestyle : 16485.764705882353\n",
      "Entertainment : 14029.830708661417\n",
      "Business : 7491.117647058823\n",
      "Education : 7003.983050847458\n",
      "Catalogs : 4004.0\n",
      "Medical : 612.0\n"
     ]
    }
   ],
   "source": [
    "# Create frequency table of iOS_Data\n",
    "genre_iOS = freq_table(iOS_Data, -5)\n",
    "\n",
    "# Use nested loop to calculate average installs for each genre\n",
    "ratings_table = []\n",
    "for genre in genre_iOS:\n",
    "    total = 0\n",
    "    len_genre = 0\n",
    "    for app in iOS_Data:\n",
    "        genre_app = app[-5]\n",
    "        if genre_app == genre:\n",
    "            number_ratings = float(app[5])\n",
    "            total += number_ratings\n",
    "            len_genre += 1\n",
    "    avg_n_ratings = total / len_genre\n",
    "    table_pair = (avg_n_ratings, genre)\n",
    "    ratings_table.append(table_pair)\n",
    " \n",
    "# Use table_sorted function to display average installs per genre in descending order\n",
    "table_sorted = sorted(ratings_table, reverse = True)\n",
    "for entry in table_sorted:\n",
    "    print(entry[1], ':', entry[0])\n",
    "    "
   ]
  },
  {
   "cell_type": "markdown",
   "id": "4b7b87cf",
   "metadata": {},
   "source": [
    "The above table shows us that the app genre with the highest average number of ratings is `Navigation` (86,090), followed by `Reference` (74,942) and then `Social Networking` (71,548).  This would imply that an app in one of these fields would be the most popular in the App Store."
   ]
  },
  {
   "cell_type": "markdown",
   "id": "ccd23ddb",
   "metadata": {},
   "source": [
    "Let us explore the first of these categories, `Navigation`."
   ]
  },
  {
   "cell_type": "code",
   "execution_count": 22,
   "id": "a104c363",
   "metadata": {},
   "outputs": [
    {
     "name": "stdout",
     "output_type": "stream",
     "text": [
      "Waze - GPS Navigation, Maps & Real-time Traffic  :  345046\n",
      "Google Maps - Navigation & Transit  :  154911\n",
      "Geocaching®  :  12811\n",
      "CoPilot GPS – Car Navigation & Offline Maps  :  3582\n",
      "ImmobilienScout24: Real Estate Search in Germany  :  187\n",
      "Railway Route Search  :  5\n"
     ]
    }
   ],
   "source": [
    "# Print all Navigation apps\n",
    "for app in iOS_Data:\n",
    "    genre = app[-5]\n",
    "    if genre == 'Navigation':\n",
    "        print(app[1], ' : ', app[5])\n",
    "        "
   ]
  },
  {
   "cell_type": "markdown",
   "id": "3475670b",
   "metadata": {},
   "source": [
    "We can see here that the average number of user ratings here is skewed by a small number of apps which have a large number of average user ratings, in this case `Waze` and `Google Maps`.\n",
    "\n",
    "We want to identify an app genre which will be successful, which will be difficult to achieve in a genre which is monopolized by a small number of highly successful apps.\n",
    "\n",
    "Studying the next two popular genres shows a similar phenomenon.\n"
   ]
  },
  {
   "cell_type": "code",
   "execution_count": 23,
   "id": "c0dedd16",
   "metadata": {},
   "outputs": [
    {
     "name": "stdout",
     "output_type": "stream",
     "text": [
      "Bible  :  985920\n",
      "Dictionary.com Dictionary & Thesaurus  :  200047\n",
      "Dictionary.com Dictionary & Thesaurus for iPad  :  54175\n",
      "Google Translate  :  26786\n",
      "Muslim Pro: Ramadan 2017 Prayer Times, Azan, Quran  :  18418\n",
      "New Furniture Mods - Pocket Wiki & Game Tools for Minecraft PC Edition  :  17588\n",
      "Merriam-Webster Dictionary  :  16849\n",
      "Night Sky  :  12122\n",
      "City Maps for Minecraft PE - The Best Maps for Minecraft Pocket Edition (MCPE)  :  8535\n",
      "LUCKY BLOCK MOD ™ for Minecraft PC Edition - The Best Pocket Wiki & Mods Installer Tools  :  4693\n",
      "GUNS MODS for Minecraft PC Edition - Mods Tools  :  1497\n",
      "Guides for Pokémon GO - Pokemon GO News and Cheats  :  826\n",
      "WWDC  :  762\n",
      "Horror Maps for Minecraft PE - Download The Scariest Maps for Minecraft Pocket Edition (MCPE) Free  :  718\n",
      "VPN Express  :  14\n",
      "Real Bike Traffic Rider Virtual Reality Glasses  :  8\n",
      "教えて!goo  :  0\n",
      "Jishokun-Japanese English Dictionary & Translator  :  0\n"
     ]
    }
   ],
   "source": [
    "# Print all Reference apps\n",
    "for app in iOS_Data:\n",
    "    genre = app[-5]\n",
    "    if genre == 'Reference':\n",
    "        print(app[1], ' : ', app[5])"
   ]
  },
  {
   "cell_type": "code",
   "execution_count": 24,
   "id": "cc5c407f",
   "metadata": {},
   "outputs": [
    {
     "name": "stdout",
     "output_type": "stream",
     "text": [
      "Facebook  :  2974676\n",
      "Pinterest  :  1061624\n",
      "Skype for iPhone  :  373519\n",
      "Messenger  :  351466\n",
      "Tumblr  :  334293\n",
      "WhatsApp Messenger  :  287589\n",
      "Kik  :  260965\n",
      "ooVoo – Free Video Call, Text and Voice  :  177501\n",
      "TextNow - Unlimited Text + Calls  :  164963\n",
      "Viber Messenger – Text & Call  :  164249\n",
      "Followers - Social Analytics For Instagram  :  112778\n",
      "MeetMe - Chat and Meet New People  :  97072\n",
      "We Heart It - Fashion, wallpapers, quotes, tattoos  :  90414\n",
      "InsTrack for Instagram - Analytics Plus More  :  85535\n",
      "Tango - Free Video Call, Voice and Chat  :  75412\n",
      "LinkedIn  :  71856\n",
      "Match™ - #1 Dating App.  :  60659\n",
      "Skype for iPad  :  60163\n",
      "POF - Best Dating App for Conversations  :  52642\n",
      "Timehop  :  49510\n",
      "Find My Family, Friends & iPhone - Life360 Locator  :  43877\n",
      "Whisper - Share, Express, Meet  :  39819\n",
      "Hangouts  :  36404\n",
      "LINE PLAY - Your Avatar World  :  34677\n",
      "WeChat  :  34584\n",
      "Badoo - Meet New People, Chat, Socialize.  :  34428\n",
      "Followers + for Instagram - Follower Analytics  :  28633\n",
      "GroupMe  :  28260\n",
      "Marco Polo Video Walkie Talkie  :  27662\n",
      "Miitomo  :  23965\n",
      "SimSimi  :  23530\n",
      "Grindr - Gay and same sex guys chat, meet and date  :  23201\n",
      "Wishbone - Compare Anything  :  20649\n",
      "imo video calls and chat  :  18841\n",
      "After School - Funny Anonymous School News  :  18482\n",
      "Quick Reposter - Repost, Regram and Reshare Photos  :  17694\n",
      "Weibo HD  :  16772\n",
      "Repost for Instagram  :  15185\n",
      "Live.me – Live Video Chat & Make Friends Nearby  :  14724\n",
      "Nextdoor  :  14402\n",
      "Followers Analytics for Instagram - InstaReport  :  13914\n",
      "YouNow: Live Stream Video Chat  :  12079\n",
      "FollowMeter for Instagram - Followers Tracking  :  11976\n",
      "LINE  :  11437\n",
      "eHarmony™ Dating App - Meet Singles  :  11124\n",
      "Discord - Chat for Gamers  :  9152\n",
      "QQ  :  9109\n",
      "Telegram Messenger  :  7573\n",
      "Weibo  :  7265\n",
      "Periscope - Live Video Streaming Around the World  :  6062\n",
      "Chat for Whatsapp - iPad Version  :  5060\n",
      "QQ HD  :  5058\n",
      "Followers Analysis Tool For Instagram App Free  :  4253\n",
      "live.ly - live video streaming  :  4145\n",
      "Houseparty - Group Video Chat  :  3991\n",
      "SOMA Messenger  :  3232\n",
      "Monkey  :  3060\n",
      "Down To Lunch  :  2535\n",
      "Flinch - Video Chat Staring Contest  :  2134\n",
      "Highrise - Your Avatar Community  :  2011\n",
      "LOVOO - Dating Chat  :  1985\n",
      "PlayStation®Messages  :  1918\n",
      "BOO! - Video chat camera with filters & stickers  :  1805\n",
      "Qzone  :  1649\n",
      "Chatous - Chat with new people  :  1609\n",
      "Kiwi - Q&A  :  1538\n",
      "GhostCodes - a discovery app for Snapchat  :  1313\n",
      "Jodel  :  1193\n",
      "FireChat  :  1037\n",
      "Google Duo - simple video calling  :  1033\n",
      "Fiesta by Tango - Chat & Meet New People  :  885\n",
      "Google Allo — smart messaging  :  862\n",
      "Peach — share vividly  :  727\n",
      "Hey! VINA - Where Women Meet New Friends  :  719\n",
      "Battlefield™ Companion  :  689\n",
      "All Devices for WhatsApp - Messenger for iPad  :  682\n",
      "Chat for Pokemon Go - GoChat  :  500\n",
      "IAmNaughty – Dating App to Meet New People Online  :  463\n",
      "Qzone HD  :  458\n",
      "Zenly - Locate your friends in realtime  :  427\n",
      "League of Legends Friends  :  420\n",
      "豆瓣  :  407\n",
      "Candid - Speak Your Mind Freely  :  398\n",
      "知乎  :  397\n",
      "Selfeo  :  366\n",
      "Fake-A-Location Free ™  :  354\n",
      "Popcorn Buzz - Free Group Calls  :  281\n",
      "Fam — Group video calling for iMessage  :  279\n",
      "QQ International  :  274\n",
      "Ameba  :  269\n",
      "SoundCloud Pulse: for creators  :  240\n",
      "Tantan  :  235\n",
      "Cougar Dating & Life Style App for Mature Women  :  213\n",
      "Rawr Messenger - Dab your chat  :  180\n",
      "WhenToPost: Best Time to Post Photos for Instagram  :  158\n",
      "Inke—Broadcast an amazing life  :  147\n",
      "Mustknow - anonymous video Q&A  :  53\n",
      "CTFxCmoji  :  39\n",
      "Lobi  :  36\n",
      "Chain: Collaborate On MyVideo Story/Group Video  :  35\n",
      "botman - Real time video chat  :  7\n",
      "BestieBox  :  0\n",
      "MATCH ON LINE chat  :  0\n",
      "niconico ch  :  0\n",
      "LINE BLOG  :  0\n",
      "bit-tube - Live Stream Video Chat  :  0\n"
     ]
    }
   ],
   "source": [
    "# Print all Social Networking apps\n",
    "for app in iOS_Data:\n",
    "    genre = app[-5]\n",
    "    if genre == 'Social Networking':\n",
    "        print(app[1], ' : ', app[5])"
   ]
  },
  {
   "cell_type": "code",
   "execution_count": 25,
   "id": "1e28cd43",
   "metadata": {},
   "outputs": [
    {
     "name": "stdout",
     "output_type": "stream",
     "text": [
      "Kindle – Read eBooks, Magazines & Textbooks  :  252076\n",
      "Audible – audio books, original series & podcasts  :  105274\n",
      "Color Therapy Adult Coloring Book for Adults  :  84062\n",
      "OverDrive – Library eBooks and Audiobooks  :  65450\n",
      "HOOKED - Chat Stories  :  47829\n",
      "BookShout: Read eBooks & Track Your Reading Goals  :  879\n",
      "Dr. Seuss Treasury — 50 best kids books  :  451\n",
      "Green Riding Hood  :  392\n",
      "Weirdwood Manor  :  197\n",
      "MangaZERO - comic reader  :  9\n",
      "ikouhoushi  :  0\n",
      "MangaTiara - love comic reader  :  0\n",
      "謎解き  :  0\n",
      "謎解き2016  :  0\n"
     ]
    }
   ],
   "source": [
    "# Print all Book apps\n",
    "for app in iOS_Data:\n",
    "    genre = app[-5]\n",
    "    if genre == 'Book':\n",
    "        print(app[1], ' : ', app[5])\n",
    "\n"
   ]
  },
  {
   "cell_type": "markdown",
   "id": "a4769d6f",
   "metadata": {},
   "source": [
    "As shown above, the book genre has fairly high average user ratings and is not overly saturated.  Based on this I would recommend developing a `Book` app.\n",
    "\n",
    "The apps `Kindle` and `Audible` are largely popular so an ereader app would struggle to compete with these.\n",
    "\n",
    "There are a small number of apps developed from popular children's books, such as `Dr. Seuss Treasury` and `Green Riding Hood` so this could be one avenue to explore."
   ]
  },
  {
   "cell_type": "markdown",
   "id": "246987ee",
   "metadata": {},
   "source": [
    "### Average Number of Installs Google Play Store"
   ]
  },
  {
   "cell_type": "markdown",
   "id": "d534d7ac",
   "metadata": {},
   "source": [
    "In this section we will look at the `Android_Data` to acertain the most downloaded categories in the Google Play Store."
   ]
  },
  {
   "cell_type": "markdown",
   "id": "6dfc64fa",
   "metadata": {},
   "source": [
    "To do this we will be using the `Categories` column at index 1 to define our categories and we will be using the `Installs` column to determine average number of installs.  As in the [Average Number of Installs App Store](#Average-number-of-Installs-App-Store) section above, we will be creating a frequency table and calculating the average number of installs for each genre and then displaying the results in a table.\n",
    "\n",
    "This presents us with a small number of problems:\n",
    " - The values at `Installs` are loosely defined, for example 100,000,000+ and 100,000+.  We do not know where in the range these values fall.\n",
    "     - To counter this we will assume that an app with 100,000,000+ installs has 100,000,000 installs.\n",
    " - The values at `Installs` are currently string, as they contain a plus and a comma.\n",
    "     - We will be using the replace function to remove these from the install values and will use the built in float function to convert these from string to float values."
   ]
  },
  {
   "cell_type": "code",
   "execution_count": 26,
   "id": "50c1b183",
   "metadata": {},
   "outputs": [
    {
     "name": "stdout",
     "output_type": "stream",
     "text": [
      "COMMUNICATION : 38456119.167247385\n",
      "VIDEO_PLAYERS : 24727872.452830188\n",
      "SOCIAL : 23253652.127118643\n",
      "PHOTOGRAPHY : 17840110.40229885\n",
      "PRODUCTIVITY : 16787331.344927534\n",
      "GAME : 15588015.603248259\n",
      "TRAVEL_AND_LOCAL : 13984077.710144928\n",
      "ENTERTAINMENT : 11640705.88235294\n",
      "TOOLS : 10801391.298666667\n",
      "NEWS_AND_MAGAZINES : 9549178.467741935\n",
      "BOOKS_AND_REFERENCE : 8767811.894736841\n",
      "SHOPPING : 7036877.311557789\n",
      "PERSONALIZATION : 5201482.6122448975\n",
      "WEATHER : 5074486.197183099\n",
      "HEALTH_AND_FITNESS : 4188821.9853479853\n",
      "MAPS_AND_NAVIGATION : 4056941.7741935486\n",
      "FAMILY : 3697848.1731343283\n",
      "SPORTS : 3638640.1428571427\n",
      "ART_AND_DESIGN : 1986335.0877192982\n",
      "FOOD_AND_DRINK : 1924897.7363636363\n",
      "EDUCATION : 1833495.145631068\n",
      "BUSINESS : 1712290.1474201474\n",
      "LIFESTYLE : 1437816.2687861272\n",
      "FINANCE : 1387692.475609756\n",
      "HOUSE_AND_HOME : 1331540.5616438356\n",
      "DATING : 854028.8303030303\n",
      "COMICS : 817657.2727272727\n",
      "AUTO_AND_VEHICLES : 647317.8170731707\n",
      "LIBRARIES_AND_DEMO : 638503.734939759\n",
      "PARENTING : 542603.6206896552\n",
      "BEAUTY : 513151.88679245283\n",
      "EVENTS : 253542.22222222222\n",
      "MEDICAL : 120550.61980830671\n"
     ]
    }
   ],
   "source": [
    "# Create Android_table using freq_table function\n",
    "Android_table = freq_table(Android_Data,1)\n",
    "genre_list = []\n",
    "for genre in Android_table:\n",
    "    total = 0\n",
    "    len_genre = 0\n",
    "    for item in Android_Data:\n",
    "        genre_app = item[1]\n",
    "        if genre_app == genre:\n",
    "            str_installs = item[5]\n",
    "            plus_removed = str_installs.replace('+', '')\n",
    "            comma_removed = plus_removed.replace(',', '')\n",
    "            num_installs = float(comma_removed)\n",
    "            total += num_installs\n",
    "            len_genre += 1\n",
    "    avg_installs = (total / len_genre)\n",
    "    \n",
    "    # Initiate list of average installs and genre and append this to genre_list\n",
    "    l1 = [avg_installs, genre]\n",
    "    genre_list.append(l1)\n",
    "\n",
    "# Sort genre_list into descending order using sorted function\n",
    "table_sorted = sorted(genre_list, reverse = True)\n",
    "for entry in table_sorted:\n",
    "    print(entry[1], ':', entry[0])"
   ]
  },
  {
   "cell_type": "markdown",
   "id": "8ffe65c3",
   "metadata": {},
   "source": [
    "We can see here that the apps in the Google Play Store with the highest average number of installs are `COMMUNICATION`(38,456,119), `VIDEO_PLAYERS`(24,727,872), `SOCIAL`(23,253,652) and `PHOTOGRAPHY`(17,840,110).  It therefore follows that an app in one of these genres would be popular.\n",
    "\n",
    "As we explored with the iOS data analysis, a small number of popular apps within a genre can distort the data and demonstrate a saturated market.\n",
    "\n",
    "We can see this below with the communication genre, where apps such as `WhatsApp Messanger` (1,000,000,000+) are skewing the results."
   ]
  },
  {
   "cell_type": "code",
   "execution_count": 27,
   "id": "db144a25",
   "metadata": {},
   "outputs": [
    {
     "name": "stdout",
     "output_type": "stream",
     "text": [
      "WhatsApp Messenger : 1000000000.0\n",
      "Skype - free IM & video calls : 1000000000.0\n",
      "Messenger – Text and Video Chat for Free : 1000000000.0\n"
     ]
    }
   ],
   "source": [
    "# Display the three most popular COMMUNICATION apps\n",
    "communication_table = []\n",
    "for genre in Android_Data:\n",
    "    category = genre[1]\n",
    "    name = genre[0]\n",
    "    if category == 'COMMUNICATION':\n",
    "        str_installs = genre[5]\n",
    "        plus_removed = str_installs.replace('+', '')\n",
    "        comma_removed = plus_removed.replace(',', '')\n",
    "        num_installs = float(comma_removed)\n",
    "        l1 = [num_installs, name]\n",
    "        communication_table.append(l1)\n",
    "table_sorted = sorted(communication_table, reverse = True)\n",
    "new_table = table_sorted[:3]\n",
    "for entry in new_table:\n",
    "    print(entry[1], ':', entry[0])"
   ]
  },
  {
   "cell_type": "markdown",
   "id": "a8dace2c",
   "metadata": {},
   "source": [
    "If we look at this more closely we can see the distribution.\n",
    "\n",
    "I want to explore the distribution of number of installs amongst five popular apps:\n",
    " - `COMMUNICATION`\n",
    " - `VIDEO_PLAYERS`\n",
    " - `SOCIAL`\n",
    " - `PHOTOGRAPHY`\n",
    " - `BOOKS_AND_REFERENCE`\n",
    "\n",
    "We are studying the `BOOKS_AND_REFERENCE` genre as we identified this as a viable option when looking at the App Store Data and this has a high average number of installs in the Play Store Data (8,767,811).\n",
    " \n",
    "To explore these I will create a function `genre_frequency_table` which will take a variable - the category - as input and generate a frequency table of rating distribution.\n",
    "\n",
    "The `Category` genre contains string values and these cannot be used an input in the function.  To counter this I will loop through each row in `Android_Data` and append a value to the end of the row depending on which of the five categories the genre falls under.\n",
    "\n",
    "If the appended value is equal to the input variable the function will isolate the row, use the replace and float function to convert the installs to fload and append this to the `genre_table`.\n",
    "\n",
    "The function then takes the `genre_table` and uses the if and elif function to create a frequency table displaying distribution of installs.\n",
    "\n",
    "The frequency table uses 10 intervals of 10,000,000 to explore frequencies up to over 100,000,000 installs."
   ]
  },
  {
   "cell_type": "code",
   "execution_count": 28,
   "id": "cb997f38",
   "metadata": {},
   "outputs": [
    {
     "name": "stdout",
     "output_type": "stream",
     "text": [
      "\u001b[1m Communication Apps Distribution \u001b[0m\n",
      "{'0 - 10,000,000+': 8349, '10,000,000+ - 20,000,000+': 0, '20,000,000+ - 30,000,000+': 0, '30,000,000+ - 40,000,000+': 0, '40,000,000+ - 50,000,000+': 231, '50,000,000+ - 60,000,000+': 0, '60,000,000+ - 70,000,000+': 0, '70,000,000+ - 80,000,000+': 0, '80,000,000+ - 90,000,000+': 0, '90,000,000+ - 100,000,000+': 528, 'over 100,000,000+': 363}\n",
      "\n",
      "\n",
      "\u001b[1m Social Apps Distribution \u001b[0m\n",
      "{'0 - 10,000,000+': 4620, '10,000,000+ - 20,000,000+': 0, '20,000,000+ - 30,000,000+': 0, '30,000,000+ - 40,000,000+': 0, '40,000,000+ - 50,000,000+': 330, '50,000,000+ - 60,000,000+': 0, '60,000,000+ - 70,000,000+': 0, '70,000,000+ - 80,000,000+': 0, '80,000,000+ - 90,000,000+': 0, '90,000,000+ - 100,000,000+': 198, 'over 100,000,000+': 99}\n",
      "\n",
      "\n",
      "\u001b[1m Photography Apps Distribution \u001b[0m\n",
      "{'0 - 10,000,000+': 7194, '10,000,000+ - 20,000,000+': 0, '20,000,000+ - 30,000,000+': 0, '30,000,000+ - 40,000,000+': 0, '40,000,000+ - 50,000,000+': 165, '50,000,000+ - 60,000,000+': 0, '60,000,000+ - 70,000,000+': 0, '70,000,000+ - 80,000,000+': 0, '80,000,000+ - 90,000,000+': 0, '90,000,000+ - 100,000,000+': 264, 'over 100,000,000+': 165}\n",
      "\n",
      "\n",
      "\u001b[1m Books and Reference Apps Distribution \u001b[0m\n",
      "{'0 - 10,000,000+': 7260, '10,000,000+ - 20,000,000+': 0, '20,000,000+ - 30,000,000+': 0, '30,000,000+ - 40,000,000+': 0, '40,000,000+ - 50,000,000+': 726, '50,000,000+ - 60,000,000+': 0, '60,000,000+ - 70,000,000+': 0, '70,000,000+ - 80,000,000+': 0, '80,000,000+ - 90,000,000+': 0, '90,000,000+ - 100,000,000+': 594, 'over 100,000,000+': 33}\n"
     ]
    }
   ],
   "source": [
    "# Create function genre_frequency_table\n",
    "def genre_frequency_table(variable):        \n",
    "    genre_table = []\n",
    "    # Create genre_frequency table and define key values\n",
    "    genre_frequency = {'0 - 10,000,000+':0, '10,000,000+ - 20,000,000+':0, '20,000,000+ - 30,000,000+':0, '30,000,000+ - 40,000,000+':0, '40,000,000+ - 50,000,000+':0, '50,000,000+ - 60,000,000+':0, '60,000,000+ - 70,000,000+':0, '70,000,000+ - 80,000,000+':0, '80,000,000+ - 90,000,000+':0, '90,000,000+ - 100,000,000+':0, 'over 100,000,000+':0}\n",
    "    # Initiate values to represent categories\n",
    "    for genre in Android_table:\n",
    "        for item in Android_Data:\n",
    "            if item[1] == 'COMMUNICATION':\n",
    "                item.append(1)\n",
    "            elif item[1] == 'VIDEO_PLAYERS':\n",
    "                item.append(2)\n",
    "            elif item[1] == 'SOCIAL':\n",
    "                item.append(3)\n",
    "            elif item[1] == 'PHOTOGRAPHY':\n",
    "                item.append(4)\n",
    "            elif item[1] == 'BOOKS_AND_REFERENCE':\n",
    "                item.append(5)\n",
    "            if item[-1] == variable:\n",
    "                str_installs = item[5]\n",
    "                plus_removed = str_installs.replace('+', '')\n",
    "                comma_removed = plus_removed.replace(',', '')\n",
    "                num_installs = float(comma_removed)\n",
    "                l1 = [name, num_installs]\n",
    "                genre_table.append(l1)\n",
    "# Use genre_table to assign values to keys within genre_frequency\n",
    "    for item in genre_table:\n",
    "        total_installs = float(item[1])\n",
    "        if total_installs <= 10000000:\n",
    "            genre_frequency['0 - 10,000,000+'] += 1\n",
    "        elif total_installs <= 20000000:\n",
    "            genre_frequency['10,000,000+ - 20,000,000+'] += 1\n",
    "        elif total_installs <= 30000000:\n",
    "            genre_frequency['20,000,000+ - 30,000,000+'] += 1\n",
    "        elif total_installs <= 40000000:\n",
    "            genre_frequency['30,000,000+ - 40,000,000+'] += 1\n",
    "        elif total_installs <= 50000000:\n",
    "            genre_frequency['40,000,000+ - 50,000,000+'] += 1\n",
    "        elif total_installs <= 60000000:\n",
    "            genre_frequency['50,000,000+ - 60,000,000+'] += 1\n",
    "        elif total_installs <= 70000000:\n",
    "            genre_frequency['60,000,000+ - 70,000,000+'] += 1\n",
    "        elif total_installs <= 80000000:\n",
    "            genre_frequency['70,000,000+ - 80,000,000+'] += 1\n",
    "        elif total_installs <= 90000000:\n",
    "            genre_frequency['80,000,000+ - 90,000,000+'] += 1\n",
    "        elif total_installs <= 100000000:\n",
    "            genre_frequency['90,000,000+ - 100,000,000+'] += 1\n",
    "        elif total_installs > 100000000:\n",
    "            genre_frequency['over 100,000,000+'] += 1\n",
    "    print(genre_frequency)\n",
    "\n",
    "# Use Genre Frequency Table function to generate frequency table showing distribution of user installs for Communication Apps\n",
    "print('\\033[1m Communication Apps Distribution \\033[0m')\n",
    "genre_frequency_table(1)\n",
    "print('\\n')\n",
    "# Use Genre Frequency Table function to generate frequency table showing distribution of user installs for Social Apps\n",
    "print('\\033[1m Social Apps Distribution \\033[0m')\n",
    "genre_frequency_table(2)\n",
    "print('\\n')\n",
    "# Use Genre Frequency Table function to generate frequency table showing distribution of user installs for Photography Apps\n",
    "print('\\033[1m Photography Apps Distribution \\033[0m')\n",
    "genre_frequency_table(3)\n",
    "print('\\n')\n",
    "# Use Genre Frequency Table function to generate frequency table showing distribution of user installs for Books and Reference Apps\n",
    "print('\\033[1m Books and Reference Apps Distribution \\033[0m')\n",
    "genre_frequency_table(4)"
   ]
  },
  {
   "cell_type": "markdown",
   "id": "eff3fe4e",
   "metadata": {},
   "source": [
    "We can see clearly here that apps with over 100 million installs are skewing the data in all five categories.  To remove this issue we will explore the average number of installs per category without apps with over 100 million installs."
   ]
  },
  {
   "cell_type": "markdown",
   "id": "a82d5cae",
   "metadata": {},
   "source": [
    "To do this, first we implement an empty list `under_100m_avg`.  We then loop through Android_Data and use the replace and float functions as earlier to float the number of installs.\n",
    "\n",
    "If the app genre is `COMMUNICATION` and the app has less than 100 million installs we append this into the `under_100m_avg` table.  We then use the sum and length of `under_100m_avg` to determine the average installs for `COMMUNICATION`.\n",
    "\n",
    "We then repeat this for the other four categories."
   ]
  },
  {
   "cell_type": "code",
   "execution_count": 29,
   "id": "6b96c3ab",
   "metadata": {},
   "outputs": [
    {
     "name": "stdout",
     "output_type": "stream",
     "text": [
      "\u001b[1m Communication Apps Under 100 Million Average Installs \u001b[0m\n",
      "3603485.39\n",
      "\n",
      "\n",
      "\u001b[1m Video Player Apps Under 100 Million Average Installs \u001b[0m\n",
      "5544878.13\n",
      "\n",
      "\n",
      "\u001b[1m Social Apps Under 100 Million Average Installs \u001b[0m\n",
      "3084582.52\n",
      "\n",
      "\n",
      "\u001b[1m Photography Apps Under 100 Million Average Installs \u001b[0m\n",
      "7670532.29\n",
      "\n",
      "\n",
      "\u001b[1m Books and Reference Apps Under 100 Million Average Installs \u001b[0m\n",
      "457134.1\n"
     ]
    }
   ],
   "source": [
    "under_100m_avg = []\n",
    "for genre in Android_Data:\n",
    "    str_installs = genre[5]\n",
    "    plus_removed = str_installs.replace('+', '')\n",
    "    comma_removed = plus_removed.replace(',', '')\n",
    "    num_installs = float(comma_removed)\n",
    "    if (genre[1] == 'COMMUNICATION') and (num_installs < 100000000):\n",
    "        under_100m_avg.append(num_installs)\n",
    "avg_installs = sum(under_100m_avg) / len(under_100m_avg)\n",
    "print('\\033[1m Communication Apps Under 100 Million Average Installs \\033[0m')\n",
    "print(round(avg_installs,2))\n",
    "\n",
    "print('\\n')\n",
    "\n",
    "under_100m_avg = []\n",
    "for genre in Android_Data:\n",
    "    str_installs = genre[5]\n",
    "    plus_removed = str_installs.replace('+', '')\n",
    "    comma_removed = plus_removed.replace(',', '')\n",
    "    num_installs = float(comma_removed)\n",
    "    if (genre[1] == 'VIDEO_PLAYERS') and (num_installs < 100000000):\n",
    "        under_100m_avg.append(num_installs)\n",
    "avg_installs = sum(under_100m_avg) / len(under_100m_avg)\n",
    "print('\\033[1m Video Player Apps Under 100 Million Average Installs \\033[0m')\n",
    "print(round(avg_installs,2))\n",
    "\n",
    "print('\\n')\n",
    "\n",
    "under_100m_avg = []\n",
    "for genre in Android_Data:\n",
    "    str_installs = genre[5]\n",
    "    plus_removed = str_installs.replace('+', '')\n",
    "    comma_removed = plus_removed.replace(',', '')\n",
    "    num_installs = float(comma_removed)\n",
    "    if (genre[1] == 'SOCIAL') and (num_installs < 100000000):\n",
    "        under_100m_avg.append(num_installs)\n",
    "avg_installs = sum(under_100m_avg) / len(under_100m_avg)\n",
    "print('\\033[1m Social Apps Under 100 Million Average Installs \\033[0m')\n",
    "print(round(avg_installs,2))\n",
    "\n",
    "print('\\n')\n",
    "\n",
    "under_100m_avg = []\n",
    "for genre in Android_Data:\n",
    "    str_installs = genre[5]\n",
    "    plus_removed = str_installs.replace('+', '')\n",
    "    comma_removed = plus_removed.replace(',', '')\n",
    "    num_installs = float(comma_removed)\n",
    "    if (genre[1] == 'PHOTOGRAPHY') and (num_installs < 100000000):\n",
    "        under_100m_avg.append(num_installs)\n",
    "avg_installs = sum(under_100m_avg) / len(under_100m_avg)\n",
    "print('\\033[1m Photography Apps Under 100 Million Average Installs \\033[0m')\n",
    "print(round(avg_installs,2))\n",
    "\n",
    "print('\\n')\n",
    "\n",
    "under_100m_avg = []\n",
    "for genre in Android_Data:\n",
    "    str_installs = genre[5]\n",
    "    plus_removed = str_installs.replace('+', '')\n",
    "    comma_removed = plus_removed.replace(',', '')\n",
    "    num_installs = float(comma_removed)\n",
    "    if (genre[1] == 'BOOKS_AND_REFERENCE') and (num_installs < 10000000):\n",
    "        under_100m_avg.append(num_installs)\n",
    "avg_installs = sum(under_100m_avg) / len(under_100m_avg)\n",
    "print('\\033[1m Books and Reference Apps Under 100 Million Average Installs \\033[0m')\n",
    "print(round(avg_installs,2))"
   ]
  },
  {
   "cell_type": "markdown",
   "id": "9b009c91",
   "metadata": {},
   "source": [
    "### Comparison\n",
    "\n",
    "If we compare the average installs for the whole Android_Data dataset for our five genres with the average installs for apps with under 100 Million installs it paints quite a big picture:\n",
    "\n",
    "**Communication Apps**\n",
    " - 38,456,119 original average installs vs 3,603,458 average installs under 100 million apps\n",
    "\n",
    "**Video Player Apps**\n",
    " - 24,727,872 original average installs vs 5,544,878 average installs under 100 million apps\n",
    " \n",
    " **Social Apps**\n",
    " - 23,253,652 original average installs vs 3,084,582 average installs under 100 million apps\n",
    " \n",
    "  **Photography**\n",
    " - 17,840,110 original average installs vs 7,670,532 average installs under 100 million apps\n",
    " \n",
    "  **Books and Reference**\n",
    " - 8,767,811 original average installs vs 457,134 average installs under 100 million apps\n",
    " \n",
    " The above indicates that both the `PHOTOGRAPHY` and `BOOK_AND_REFERENCE` genres would be popular, as both genres fell lower in average installs amongst the above popular apps. The `PHOTOGRAPHY` genre has the highest number of average installs, so if we were intending to develop an app purely for the Google Play Store a photography app would be advisable.  The equivalent genre in the app store `Photo & Video` had an average number of user ratings much lower than the `Book` genre."
   ]
  },
  {
   "cell_type": "markdown",
   "id": "170f1997",
   "metadata": {},
   "source": [
    "In the code below we examine the apps in the photo and video genre of the `iOS_Data`."
   ]
  },
  {
   "cell_type": "code",
   "execution_count": 30,
   "id": "34a2e972",
   "metadata": {},
   "outputs": [
    {
     "name": "stdout",
     "output_type": "stream",
     "text": [
      "Instagram  :  2161558\n",
      "Snapchat  :  323905\n",
      "YouTube - Watch Videos, Music, and Live Streams  :  278166\n",
      "Pic Collage - Picture Editor & Photo Collage Maker  :  123433\n",
      "Funimate video editor: add cool effects to videos  :  123268\n",
      "musical.ly - your video social network  :  105429\n",
      "Photo Collage Maker & Photo Editor - Live Collage  :  93781\n",
      "Vine Camera  :  90355\n",
      "Google Photos - unlimited photo and video storage  :  88742\n",
      "Flipagram  :  79905\n",
      "Mixgram - Picture Collage Maker - Pic Photo Editor  :  54282\n",
      "Shutterfly: Prints, Photo Books, Cards Made Easy  :  51427\n",
      "Pic Jointer – Photo Collage, Camera Effects Editor  :  51330\n",
      "Color Pop Effects - Photo Editor & Picture Editing  :  45320\n",
      "Photo Grid - photo collage maker & photo editor  :  40531\n",
      "iSwap Faces LITE  :  39722\n",
      "MOLDIV - Photo Editor, Collage & Beauty Camera  :  39501\n",
      "Photo Editor by Aviary  :  39501\n",
      "Photo Lab: Picture Editor, effects & fun face app  :  34585\n",
      "Rookie Cam - Photo Editor & Filter Camera  :  33921\n",
      "FotoRus -Camera & Photo Editor & Pic Collage Maker  :  32558\n",
      "PicsArt Photo Studio: Collage Maker & Pic Editor  :  29078\n",
      "Quik – GoPro Video Editor to edit clips with music  :  28654\n",
      "Splice - Video Editor + Movie Maker by GoPro  :  28189\n",
      "FreePrints – Photos Delivered  :  26060\n",
      "Triller - Music Video & Film Maker  :  25683\n",
      "Ghost Lens+Scary Photo Video Edit&Collage Maker  :  18316\n",
      "Camera360 - Selfie Filter Camera, Photo Editor  :  16729\n",
      "InstaMag - Free Pic and Photo Collage Maker  :  16221\n",
      "Over— Edit Photos, Add Text & Captions to Pictures  :  16221\n",
      "Photo Transfer App - Easy backup of photos+videos  :  15654\n",
      "InstaSize: Photo Editor, Picture Effects & Collage  :  15605\n",
      "Prisma: Photo Editor, Art Filters Pic Effects  :  15060\n",
      "Filterra – Photo Editor, Effects for Pictures  :  14744\n",
      "YouCam Makeup: Magic Makeup Selfie Cam  :  14188\n",
      "MSQRD — Live Filters & Face Swap for Video Selfies  :  12982\n",
      "Artisto – Video and Photo Editor with Art Filters  :  12963\n",
      "InShot Video Editor Music, No Crop, Cut  :  12779\n",
      "Layout from Instagram  :  12616\n",
      "Face Swap App- Funny Face Changer Photo Effects  :  11977\n",
      "Moments - private albums with friends and family  :  11955\n",
      "VSCO  :  11174\n",
      "Retrica - Selfie Camera with Filter, Sticker & GIF  :  11021\n",
      "VivaVideo - Best Video Editor & Photo Movie Maker  :  10618\n",
      "Prime Photos from Amazon  :  10511\n",
      "Canva - Graphic Design & Photo Editing  :  9114\n",
      "Photo Editor-  :  9095\n",
      "Snapseed  :  8683\n",
      "You Doodle - draw on photos & pictures, add text  :  8520\n",
      "PIP Camera-Selfie Cam&Pic Collage&Photo Editor  :  8454\n",
      "BeautyPlus - Selfie Camera for a Beautiful Image  :  7503\n",
      "Baby Story - Pregnancy Pics Baby Milestones Photo  :  6700\n",
      "Capture - Control Your GoPro Camera - Share Video  :  6542\n",
      "Meitu  :  6478\n",
      "Visage makeup editor plus photo teeth whitener  :  5767\n",
      "Video & TV Cast for Chromecast: Best Browser to cast and stream webvideos and local videos on TV & Displays  :  5676\n",
      "Adobe Photoshop Mix - Cut out, combine, create  :  5253\n",
      "Collageable - Photo Collage Maker, Pic Grid Free  :  5112\n",
      "Bazaart Photo Editor Pro and Picture Collage Maker  :  4909\n",
      "InstaBeauty -Camera&Photo Editor&Pic Collage Maker  :  4818\n",
      "YouCam Perfect - Photo & Selfie Editor  :  4293\n",
      "PHHHOTO - Look Alive  :  4280\n",
      "MuseCam - Edit Photos & Manual Camera  :  4267\n",
      "VR Tube - Virtual Reality 360 Video Player  :  4142\n",
      "Fyuse - 3D Photos  :  4126\n",
      "MakeupPlus - Natural, Professional Makeup Looks  :  3987\n",
      "LINE Camera - Photo editor, Animated Stamp, Filter  :  3978\n",
      "Printicular Print Photos - 1 Hour Pickup  :  3909\n",
      "Lumyer - augmented reality camera effects  :  3896\n",
      "KODAK Kiosk Connect App  :  3711\n",
      "Cool Wallpapers for Pokemon  :  3694\n",
      "Pro Editor - Video Maker for FaceBook & Youtube  :  3668\n",
      "Lomotif Music Video Editor - Add Music & Effects!  :  3507\n",
      "Epson iPrint  :  2838\n",
      "YouCam Fun - Live Selfie Video Filters  :  2522\n",
      "A Color Story  :  2436\n",
      "Boomerang from Instagram  :  2373\n",
      "B612 - Trendy Filters, Selfiegenic Camera  :  2275\n",
      "Polarr Photo Editor - Photo Editing Tools for All  :  2246\n",
      "Retouch Vogue - Facetune Wrinkles & Pimples Makeup  :  2235\n",
      "Kanvas - Express Yourself  :  2177\n",
      "Easy Save - Repost your Instagram Photos & Videos  :  2159\n",
      "Meitu HD  :  2150\n",
      "Pixlr - Photo Collages, Effects, Overlays, Filters  :  2099\n",
      "Patternator Pattern Maker Backgrounds & Wallpapers  :  2092\n",
      "BeautyCam - AR Carnie selfie  :  2082\n",
      "GIPHY. The GIF Search Engine for All the GIFs  :  2069\n",
      "Adobe Photoshop Lightroom for iPad  :  2005\n",
      "SuperPhoto - Photo Effects & Filters  :  1952\n",
      "Solo Selfie  :  1799\n",
      "Felt: Birthday & Greeting Cards & Thank You Card  :  1724\n",
      "Perfect Image - Pic Collage Maker, Add Text to Photo, Cool Picture Editor  :  1646\n",
      "InstaBoard  for Instagram - photos & videos repost  :  1571\n",
      "Adobe Photoshop Lightroom for iPhone  :  1494\n",
      "PhotoScan - scanner by Google Photos  :  1421\n",
      "RealTimes: Video Maker  :  1274\n",
      "Meipai  :  1190\n",
      "POTO - Photo Collage Maker  :  1149\n",
      "SNOW - Selfie, Motion sticker, Fun camera  :  1115\n",
      "Bestie-Beauty Camera 360 & Portrait Selfie Editor  :  1035\n",
      "Facetune 2  :  1009\n",
      "Pitu  :  968\n",
      "intoLive - Custom Live Photos wallpaper maker  :  938\n",
      "LOL Movie: Change your face + voice!  :  849\n",
      "Camcorder - Record VHS Home Videos  :  830\n",
      "Anime Power FX  :  807\n",
      "Squaready for Video - Convert Rectangle Movie Clip into Square Shape for Instagram  :  778\n",
      "Canon PRINT Inkjet/SELPHY  :  689\n",
      "Microsoft Pix Camera  :  678\n",
      "Kwai - Share your video moments  :  668\n",
      "Polaroid Print App - ZIP  :  631\n",
      "Photo Quilt - Auto Collage Maker  :  599\n",
      "Cymera - Photo & Beauty Editor & Collage  :  523\n",
      "FACIE  :  514\n",
      "Photo Editing Effects & Collage Maker - Effectshop  :  422\n",
      "Pic-it Collage - Photo Collage Maker and Editor  :  415\n",
      "Candy Camera  :  397\n",
      "Microsoft Selfie  :  375\n",
      "Color Pop Free - Selective Color Splash Effects and Black & White Photography Editor  :  352\n",
      "SelfieCity  :  252\n",
      "InstaSave for Instagram - Download & Repost your own Videos & Photos for Free  :  243\n",
      "CATCHY Photos-Easter Bunny, Tooth Fairy and more..  :  228\n",
      "SW/NG - Living Photos. Memories that Swing.  :  222\n",
      "SlideStory - Create a slideshow movie and a snap video  :  220\n",
      "April - Layouts, Photo Collage, and Poster Maker  :  165\n",
      "PopCam　Photo  :  160\n",
      "Foodie - Delicious Camera for Food  :  144\n",
      "FreeVRPlayer  :  134\n",
      "Confetti - Geofilter Design Maker for Snapchat  :  120\n",
      "Philm-Video&Photo Editor,REAL-TIME Magic Filter  :  103\n",
      "Digital Domain  :  102\n",
      "Homido 360 VR player  :  100\n",
      "Best 9 for Instagram  :  88\n",
      "VR Video World - Virtual Reality  :  88\n",
      "FilmStory - For All Your Video Editing Needs  :  66\n",
      "GIFYme - Create video loops and gifs with amazing filters for Whatsapp and Instagram  :  65\n",
      "Kiosk Photo Transfer by Fujifilm  :  58\n",
      "Pikazo – AI art that YOU control  :  56\n",
      "lollicam - photo, video, and selfie camera  :  51\n",
      "LOOKS - Real Makeup Camera  :  25\n",
      "C CHANNEL -Watch tips & tricks videos for girls  :  21\n",
      "in-capturing moments in life  :  16\n",
      "Everfilter - transform your photos into artworks  :  15\n",
      "GoSnaps - Share Screenshots for Pokémon GO  :  12\n",
      "NightShooting  :  9\n",
      "MixChannel  :  6\n",
      "Simple Camera - Fast Minimal Design  :  3\n",
      "SwapperFace - Face Swap Free, Live Mask Effects  :  2\n",
      "LINE Moments - Capture Your Fun Moments  :  1\n",
      "Video speed editor - VBooster  :  1\n",
      "Video Smith - A Powerful video editing tool set  :  1\n",
      "MeiCam -  Video Production Master  :  0\n",
      "Instant X - Take instant-camera-like photo with double exposure and bulb mode  :  0\n",
      "EOPAN  :  0\n",
      "StageCameraHD  :  0\n",
      "Pictalive for Live Photos - Create from videos  :  0\n",
      "BlurEffect-Blur Photo & Video, Hide Face  :  0\n",
      "camera for filter  :  0\n",
      "Emojil - original emoji stamp, decoration camera  :  0\n",
      "CelebrityDiagnosis!  :  0\n"
     ]
    }
   ],
   "source": [
    "for app in iOS_Data:\n",
    "    genre = app[-5]\n",
    "    if genre == 'Photo & Video':\n",
    "        print(app[1], ' : ', app[5])"
   ]
  },
  {
   "cell_type": "markdown",
   "id": "7d720c20",
   "metadata": {},
   "source": [
    "As we can see in the above output, the `Photo & Video` genre in the App Store is mostly dominated by a large number of popular apps which are skewing the data.  In the [Average Number of Installs](#Average-Number-of-Installs) section we showed that in the iOS_Data `Book` genre, Kindle and Audible are two highly popular genres but the genre is not dominated by already popular apps."
   ]
  },
  {
   "cell_type": "markdown",
   "id": "9a037383",
   "metadata": {},
   "source": [
    "We will now take a look at apps which make up the `BOOKS AND REFERENCE` genre within the Google Play Store.\n",
    "\n",
    "We want to initially create a list of `Installs`and `App` name.  We then use sorted to show the most installed apps first.\n",
    "\n",
    "As we want to sort by most installed apps we need `Installs` to be a float."
   ]
  },
  {
   "cell_type": "code",
   "execution_count": 31,
   "id": "21fdb8c2",
   "metadata": {},
   "outputs": [
    {
     "name": "stdout",
     "output_type": "stream",
     "text": [
      "Google Play Books : 1000000000\n",
      "Wattpad 📖 Free Books : 100000000\n",
      "Bible : 100000000\n",
      "Audiobooks from Audible : 100000000\n",
      "Amazon Kindle : 100000000\n",
      "Wikipedia : 10000000\n",
      "Spanish English Translator : 10000000\n",
      "Quran for Android : 10000000\n",
      "Oxford Dictionary of English : Free : 10000000\n",
      "NOOK: Read eBooks & Magazines : 10000000\n",
      "Moon+ Reader : 10000000\n",
      "JW Library : 10000000\n",
      "HTC Help : 10000000\n",
      "FBReader: Favorite Book Reader : 10000000\n",
      "English Hindi Dictionary : 10000000\n",
      "English Dictionary - Offline : 10000000\n",
      "Dictionary.com: Find Definitions for English Words : 10000000\n",
      "Dictionary - Merriam-Webster : 10000000\n",
      "Dictionary : 10000000\n",
      "Cool Reader : 10000000\n",
      "Aldiko Book Reader : 10000000\n",
      "Al-Quran (Free) : 10000000\n",
      "Al'Quran Bahasa Indonesia : 10000000\n",
      "Al Quran Indonesia : 10000000\n",
      "Read books online : 5000000\n",
      "English to Hindi Dictionary : 5000000\n",
      "Ebook Reader : 5000000\n",
      "Dictionary - WordWeb : 5000000\n",
      "Bible KJV : 5000000\n",
      "Ancestry : 5000000\n",
      "AlReader -any text book reader : 5000000\n",
      "Al Quran : EAlim - Translations & MP3 Offline : 5000000\n",
      "50000 Free eBooks & Free AudioBooks : 5000000\n",
      "wikiHow: how to do anything : 1000000\n",
      "eBoox: book reader fb2 epub zip : 1000000\n",
      "Stats Royale for Clash Royale : 1000000\n",
      "Satellite AR : 1000000\n",
      "ReadEra – free ebook reader : 1000000\n",
      "Oxford A-Z of English Usage : 1000000\n",
      "My Little Pony AR Guide : 1000000\n",
      "Koran Read &MP3 30 Juz Offline : 1000000\n",
      "Hafizi Quran 15 lines per page : 1000000\n",
      "Golden Dictionary (EN-AR) : 1000000\n",
      "Free Books - Spirit Fanfiction and Stories : 1000000\n",
      "FamilySearch Tree : 1000000\n",
      "English-Myanmar Dictionary : 1000000\n",
      "EGW Writings : 1000000\n",
      "Cloud of Books : 1000000\n",
      "Brilliant Quotes: Life, Love, Family & Motivation : 1000000\n",
      "Book store : 1000000\n",
      "All Maths Formulas : 1000000\n",
      "All Language Translator Free : 1000000\n",
      "Al Quran Al karim : 1000000\n",
      "Youboox - Livres, BD et magazines : 500000\n",
      "SDA Sabbath School Quarterly : 500000\n",
      "Recipes of Prophetic Medicine for free : 500000\n",
      "Only 30 days in English, the guideline is guaranteed : 500000\n",
      "Offline: English to Tagalog Dictionary : 500000\n",
      "NOOK Audiobooks : 500000\n",
      "NOOK App for NOOK Devices : 500000\n",
      "Google I/O 2018 : 500000\n",
      "Golden Dictionary (FR-AR) : 500000\n",
      "Flybook : 500000\n",
      "English to Urdu Dictionary : 500000\n",
      "English Persian Dictionary : 500000\n",
      "English Grammar Complete Handbook : 500000\n",
      "Azpen eReader : 500000\n",
      "Al-Quran 30 Juz free copies : 500000\n",
      "Al Quran (Tafsir & by Word) : 500000\n",
      "cloudLibrary : 100000\n",
      "V Made : 100000\n",
      "URBANO V 02 instruction manual : 100000\n",
      "Surah Al-Waqiah : 100000\n",
      "Sabbath School : 100000\n",
      "Pdf Book Download - Read Pdf Book : 100000\n",
      "Offline English Dictionary : 100000\n",
      "Litnet - E-books : 100000\n",
      "Hymnes et Louanges : 100000\n",
      "How to Write CV : 100000\n",
      "Hisnul Al Muslim - Hisn Invocations & Adhkaar : 100000\n",
      "Guide (for X-MEN) : 100000\n",
      "Free Panda Radio Music : 100000\n",
      "Free Book Reader : 100000\n",
      "English translation from Bengali : 100000\n",
      "EGW Writings 2 : 100000\n",
      "Download free book with green book : 100000\n",
      "Bible with EGW Comments : 100000\n",
      "BakaReader EX : 100000\n",
      "Aab e Hayat Full Novel : 100000\n",
      "eBoox new: Reader for fb2 epub zip books : 50000\n",
      "SH-02J Owner's Manual (Android 8.0) : 50000\n",
      "La citadelle du musulman : 50000\n",
      "Fertilizer Removal By Crop : 50000\n",
      "EZ Quran : 50000\n",
      "E-Book Read - Read Book for free : 50000\n",
      "DV 2019 - EDV Photo & Form : 50000\n",
      "C Programs and Reference : 50000\n",
      "C Programs Handbook : 50000\n",
      "Bible du Semeur-BDS (French) : 50000\n",
      "Al-Muhaffiz : 50000\n",
      "TN Patta Citta & EC : 10000\n",
      "R Language Reference Guide : 10000\n",
      "Kristian Hla Bu : 10000\n",
      "Kinot & Eichah for Tisha B'Av : 10000\n",
      "Guide for DB Xenoverse 2 : 10000\n",
      "Guide for DB Xenoverse : 10000\n",
      "English To Shona Dictionary : 10000\n",
      "Easy Cv maker 2018 : 10000\n",
      "DV 2019 Entry Guide : 10000\n",
      "DM Screen : 10000\n",
      "Bulgarian French Dictionary Fr : 10000\n",
      "Borneo Bible, BM Bible : 10000\n",
      "Bootable Methods(USB-CD-DVD) : 10000\n",
      "BR Ambedkar Biography & Quotes : 10000\n",
      "BD All Sim Offer : 10000\n",
      "B&H Kids AR : 10000\n",
      "Ay Mohabbat Teri Khatir Novel : 10000\n",
      "Ay Hasnain k Nana Milad Naat : 10000\n",
      "Anonymous caller detection : 10000\n",
      "Ag PhD Field Guide : 10000\n",
      "Ag PhD Deficiencies : 10000\n",
      "Ae Allah na Dai (Rasa) : 10000\n",
      "AP Stamps and Registration : 10000\n",
      "Learn R Programming Full : 5000\n",
      "Learn CT Scan Of Head : 5000\n",
      "Fanfic-FR : 5000\n",
      "FA Part 1 & 2 Past Papers Solved Free – Offline : 5000\n",
      "EC - AP & Telangana : 5000\n",
      "Duaa Ek Ibaadat : 5000\n",
      "DC HSEMA : 5000\n",
      "CA Laws 2018 (California Laws and Codes) : 5000\n",
      "Browsery by Barnes & Noble : 5000\n",
      "Bilingual Dictionary Audio App : 5000\n",
      "B y H Niños ES : 5000\n",
      "AY Sing : 5000\n",
      "AW Tozer Devotionals - Daily : 5000\n",
      "AC Air condition Troubleshoot,Repair,Maintenance : 5000\n",
      "bp e-store : 1000\n",
      "Tozer Devotional -Series 1 : 1000\n",
      "The SCP Foundation DB fr nn5n : 1000\n",
      "The Pursuit of God : 1000\n",
      "SA HLA BU : 1000\n",
      "R Quick Reference Big Data : 1000\n",
      "R Programing Offline Tutorial : 1000\n",
      "Painting Lulu DC Super Friends : 1000\n",
      "La Fe de Jesus : 1000\n",
      "Greek Bible FP (Audio) : 1000\n",
      "Florida Statutes (FL Code) : 1000\n",
      "Florida - Pocket Brainbook : 1000\n",
      "Fix Error Google Playstore : 1000\n",
      "EU Data Protection : 1000\n",
      "EU Charter : 1000\n",
      "EP Research Service : 1000\n",
      "EB Annual Meetings : 1000\n",
      "Dr. Doug's Tips : 1000\n",
      "DV 2018 Winners Guide : 1000\n",
      "DC Public Library : 1000\n",
      "D. H. Lawrence Poems FREE : 1000\n",
      "Chemin (fr) : 1000\n",
      "CW Nuclear : 1000\n",
      "C Offline Tutorial : 1000\n",
      "BM Box : 1000\n",
      "BD Fishpedia : 1000\n",
      "Arizona Statutes, ARS (AZ Law) : 1000\n",
      "Ag PhD Soybean Diseases : 1000\n",
      "Ag PhD Planting Population Calculator : 1000\n",
      "AE Bulletins : 1000\n",
      "SDA Collegiate Quarterly : 500\n",
      "Modlitební knížka CZ : 500\n",
      "Learn SAP BW on HANA : 500\n",
      "Learn SAP BW : 500\n",
      "Le Fe de Jesus : 500\n",
      "La Fe de Jesús : 500\n",
      "Catholic La Bu Zo Kam : 500\n",
      "MOD Black for BM : 100\n",
      "EU IP Codes : 100\n",
      "Cypress College Library : 100\n",
      "CompactiMa EC pH Calibration : 100\n",
      "BU Alsace : 100\n",
      "Anime Mod for BM : 100\n",
      "GATE 21 years CS Papers(2011-2018 Solved) : 50\n",
      "A-J Media Vault : 50\n",
      "Learn R Programming : 10\n",
      "Khrifa Hla Bu (Solfa) : 10\n",
      "Guide for IMS DB : 10\n",
      "CY Spray nozzle : 10\n",
      "Guide for R Programming : 5\n",
      "EW PDF : 5\n",
      "CZ-Help : 5\n",
      "BibleRead En Cy Zh Yue : 5\n",
      "\u001b[1m Total Number of Dictionary Apps \u001b[0m\n",
      "18\n"
     ]
    }
   ],
   "source": [
    "# Populate list books_and_reference with BOOKS_AND_REFERENCE app names and number of installs\n",
    "books_and_reference = []\n",
    "l1 = []\n",
    "for genre in Android_Data:\n",
    "    category = genre[1]\n",
    "    name = genre[0]\n",
    "    installs = genre[5]\n",
    "    if category == 'BOOKS_AND_REFERENCE':\n",
    "        plus_removed = installs.replace('+', '')\n",
    "        comma_removed = plus_removed.replace(',', '')\n",
    "        num_installs = float(comma_removed)\n",
    "        l1 = [round(num_installs), name]\n",
    "        books_and_reference.append(l1)\n",
    "\n",
    "# Sort books_and_reference table by number of installs\n",
    "table_sorted = sorted(books_and_reference, reverse = True)\n",
    "for entry in table_sorted:\n",
    "    print(entry[1], ':', entry[0])\n",
    "\n",
    "# Count the number of Dictionary apps in the BOOKS_AND_REFERENCE category\n",
    "print('\\033[1m Total Number of Dictionary Apps \\033[0m')\n",
    "count = 0\n",
    "for entry in table_sorted:\n",
    "    if \"Dictionary\" in entry[1]:\n",
    "        count += 1\n",
    "print(count)\n"
   ]
  },
  {
   "cell_type": "markdown",
   "id": "4a604455",
   "metadata": {},
   "source": [
    "Looking at the above output, we can see that the `BOOK AND REFERENCE` genre has a large number of popular apps dedicated to reading ebooks - such as `Google Play Books` and `Wattpad`.  There are also several different versions of religious texts, including `Bible` and `Quran for Android`.  The reference section of this genre seems to be saturated too, with at least 18 apps which contain the word dictionary.  One possible avenue to explore could be an interactive version of a popular children's book.\n",
    "\n",
    "Below, we now explore the age categories.  First we create a list of age categories to identify which best suits a children's app and then we create a list of all apps which fit that category."
   ]
  },
  {
   "cell_type": "code",
   "execution_count": 32,
   "id": "258b584a",
   "metadata": {},
   "outputs": [
    {
     "name": "stdout",
     "output_type": "stream",
     "text": [
      "\u001b[1mAge Category List \u001b[0m\n",
      "['Everyone', 'Everyone 10+', 'Teen', 'Mature 17+']\n",
      "\n",
      "\n",
      "\u001b[1mApps Suitable for Everyone \u001b[0m\n",
      "E-Book Read - Read Book for free : 50,000+\n",
      "Wikipedia : 10,000,000+\n",
      "Cool Reader : 10,000,000+\n",
      "Free Panda Radio Music : 100,000+\n",
      "FBReader: Favorite Book Reader : 10,000,000+\n",
      "English Grammar Complete Handbook : 500,000+\n",
      "AlReader -any text book reader : 5,000,000+\n",
      "Offline English Dictionary : 100,000+\n",
      "Offline: English to Tagalog Dictionary : 500,000+\n",
      "FamilySearch Tree : 1,000,000+\n",
      "Cloud of Books : 1,000,000+\n",
      "Recipes of Prophetic Medicine for free : 500,000+\n",
      "ReadEra – free ebook reader : 1,000,000+\n",
      "Anonymous caller detection : 10,000+\n",
      "Ebook Reader : 5,000,000+\n",
      "English to Urdu Dictionary : 500,000+\n",
      "eBoox: book reader fb2 epub zip : 1,000,000+\n",
      "English Persian Dictionary : 500,000+\n",
      "All Maths Formulas : 1,000,000+\n",
      "Ancestry : 5,000,000+\n",
      "HTC Help : 10,000,000+\n",
      "English translation from Bengali : 100,000+\n",
      "Pdf Book Download - Read Pdf Book : 100,000+\n",
      "Free Book Reader : 100,000+\n",
      "eBoox new: Reader for fb2 epub zip books : 50,000+\n",
      "Only 30 days in English, the guideline is guaranteed : 500,000+\n",
      "Moon+ Reader : 10,000,000+\n",
      "SH-02J Owner's Manual (Android 8.0) : 50,000+\n",
      "English-Myanmar Dictionary : 1,000,000+\n",
      "Golden Dictionary (EN-AR) : 1,000,000+\n",
      "All Language Translator Free : 1,000,000+\n",
      "Azpen eReader : 500,000+\n",
      "URBANO V 02 instruction manual : 100,000+\n",
      "C Programs and Reference : 50,000+\n",
      "C Offline Tutorial : 1,000+\n",
      "C Programs Handbook : 50,000+\n",
      "Aab e Hayat Full Novel : 100,000+\n",
      "Aldiko Book Reader : 10,000,000+\n",
      "Google I/O 2018 : 500,000+\n",
      "R Language Reference Guide : 10,000+\n",
      "Learn R Programming Full : 5,000+\n",
      "R Programing Offline Tutorial : 1,000+\n",
      "Guide for R Programming : 5+\n",
      "Learn R Programming : 10+\n",
      "R Quick Reference Big Data : 1,000+\n",
      "V Made : 100,000+\n",
      "Guide (for X-MEN) : 100,000+\n",
      "AC Air condition Troubleshoot,Repair,Maintenance : 5,000+\n",
      "AE Bulletins : 1,000+\n",
      "Ae Allah na Dai (Rasa) : 10,000+\n",
      "Ag PhD Field Guide : 10,000+\n",
      "Ag PhD Deficiencies : 10,000+\n",
      "Ag PhD Planting Population Calculator : 1,000+\n",
      "Ag PhD Soybean Diseases : 1,000+\n",
      "Fertilizer Removal By Crop : 50,000+\n",
      "A-J Media Vault : 50+\n",
      "Al-Quran (Free) : 10,000,000+\n",
      "Al Quran (Tafsir & by Word) : 500,000+\n",
      "Al Quran Indonesia : 10,000,000+\n",
      "Al'Quran Bahasa Indonesia : 10,000,000+\n",
      "Al Quran Al karim : 1,000,000+\n",
      "Al-Muhaffiz : 50,000+\n",
      "Al Quran : EAlim - Translations & MP3 Offline : 5,000,000+\n",
      "Al-Quran 30 Juz free copies : 500,000+\n",
      "Koran Read &MP3 30 Juz Offline : 1,000,000+\n",
      "Hafizi Quran 15 lines per page : 1,000,000+\n",
      "Quran for Android : 10,000,000+\n",
      "Surah Al-Waqiah : 100,000+\n",
      "Hisnul Al Muslim - Hisn Invocations & Adhkaar : 100,000+\n",
      "Satellite AR : 1,000,000+\n",
      "Kinot & Eichah for Tisha B'Av : 10,000+\n",
      "AW Tozer Devotionals - Daily : 5,000+\n",
      "Tozer Devotional -Series 1 : 1,000+\n",
      "The Pursuit of God : 1,000+\n",
      "AY Sing : 5,000+\n",
      "Ay Hasnain k Nana Milad Naat : 10,000+\n",
      "Ay Mohabbat Teri Khatir Novel : 10,000+\n",
      "Arizona Statutes, ARS (AZ Law) : 1,000+\n",
      "Oxford A-Z of English Usage : 1,000,000+\n",
      "BD Fishpedia : 1,000+\n",
      "BD All Sim Offer : 10,000+\n",
      "B&H Kids AR : 10,000+\n",
      "B y H Niños ES : 5,000+\n",
      "Dictionary.com: Find Definitions for English Words : 10,000,000+\n",
      "Bible KJV : 5,000,000+\n",
      "Borneo Bible, BM Bible : 10,000+\n",
      "MOD Black for BM : 100+\n",
      "BM Box : 1,000+\n",
      "Anime Mod for BM : 100+\n",
      "NOOK Audiobooks : 500,000+\n",
      "NOOK App for NOOK Devices : 500,000+\n",
      "Browsery by Barnes & Noble : 5,000+\n",
      "bp e-store : 1,000+\n",
      "BR Ambedkar Biography & Quotes : 10,000+\n",
      "BU Alsace : 100+\n",
      "Catholic La Bu Zo Kam : 500+\n",
      "Khrifa Hla Bu (Solfa) : 10+\n",
      "Kristian Hla Bu : 10,000+\n",
      "SA HLA BU : 1,000+\n",
      "Learn SAP BW : 500+\n",
      "Learn SAP BW on HANA : 500+\n",
      "CA Laws 2018 (California Laws and Codes) : 5,000+\n",
      "Bootable Methods(USB-CD-DVD) : 10,000+\n",
      "cloudLibrary : 100,000+\n",
      "SDA Collegiate Quarterly : 500+\n",
      "Sabbath School : 100,000+\n",
      "Cypress College Library : 100+\n",
      "Stats Royale for Clash Royale : 1,000,000+\n",
      "GATE 21 years CS Papers(2011-2018 Solved) : 50+\n",
      "Learn CT Scan Of Head : 5,000+\n",
      "Easy Cv maker 2018 : 10,000+\n",
      "How to Write CV : 100,000+\n",
      "CW Nuclear : 1,000+\n",
      "CY Spray nozzle : 10+\n",
      "BibleRead En Cy Zh Yue : 5+\n",
      "CZ-Help : 5+\n",
      "Modlitební knížka CZ : 500+\n",
      "Guide for DB Xenoverse : 10,000+\n",
      "Guide for DB Xenoverse 2 : 10,000+\n",
      "Guide for IMS DB : 10+\n",
      "DC HSEMA : 5,000+\n",
      "DC Public Library : 1,000+\n",
      "Painting Lulu DC Super Friends : 1,000+\n",
      "Dictionary : 10,000,000+\n",
      "Fix Error Google Playstore : 1,000+\n",
      "D. H. Lawrence Poems FREE : 1,000+\n",
      "Bilingual Dictionary Audio App : 5,000+\n",
      "Dr. Doug's Tips : 1,000+\n",
      "Bible du Semeur-BDS (French) : 50,000+\n",
      "La citadelle du musulman : 50,000+\n",
      "DV 2019 Entry Guide : 10,000+\n",
      "DV 2019 - EDV Photo & Form : 50,000+\n",
      "DV 2018 Winners Guide : 1,000+\n",
      "EB Annual Meetings : 1,000+\n",
      "EC - AP & Telangana : 5,000+\n",
      "TN Patta Citta & EC : 10,000+\n",
      "AP Stamps and Registration : 10,000+\n",
      "CompactiMa EC pH Calibration : 100+\n",
      "EGW Writings 2 : 100,000+\n",
      "EGW Writings : 1,000,000+\n",
      "Bible with EGW Comments : 100,000+\n",
      "My Little Pony AR Guide : 1,000,000+\n",
      "SDA Sabbath School Quarterly : 500,000+\n",
      "Duaa Ek Ibaadat : 5,000+\n",
      "Dictionary - Merriam-Webster : 10,000,000+\n",
      "JW Library : 10,000,000+\n",
      "Oxford Dictionary of English : Free : 10,000,000+\n",
      "English Hindi Dictionary : 10,000,000+\n",
      "English to Hindi Dictionary : 5,000,000+\n",
      "EP Research Service : 1,000+\n",
      "Hymnes et Louanges : 100,000+\n",
      "EU Charter : 1,000+\n",
      "EU Data Protection : 1,000+\n",
      "EU IP Codes : 100+\n",
      "EW PDF : 5+\n",
      "BakaReader EX : 100,000+\n",
      "EZ Quran : 50,000+\n",
      "FA Part 1 & 2 Past Papers Solved Free – Offline : 5,000+\n",
      "La Fe de Jesus : 1,000+\n",
      "La Fe de Jesús : 500+\n",
      "Le Fe de Jesus : 500+\n",
      "Florida - Pocket Brainbook : 1,000+\n",
      "Florida Statutes (FL Code) : 1,000+\n",
      "English To Shona Dictionary : 10,000+\n",
      "Greek Bible FP (Audio) : 1,000+\n",
      "Golden Dictionary (FR-AR) : 500,000+\n",
      "Bulgarian French Dictionary Fr : 10,000+\n",
      "Chemin (fr) : 1,000+\n",
      "\n",
      "\n",
      "\u001b[1mNumber of Apps Suitable for Everyone \u001b[0m\n",
      "168\n"
     ]
    }
   ],
   "source": [
    "age_categories = []\n",
    "already_added = []\n",
    "for app in Android_Data:\n",
    "    if (app[1] == 'BOOKS_AND_REFERENCE') and (app[8] not in already_added):\n",
    "            age_categories.append(app[8])\n",
    "            already_added.append(app[8])\n",
    "print('\\033[1mAge Category List \\033[0m')\n",
    "print(age_categories)\n",
    "\n",
    "print('\\n')\n",
    "\n",
    "print('\\033[1mApps Suitable for Everyone \\033[0m')\n",
    "all_age_groups = []\n",
    "for app in Android_Data:\n",
    "    if (app[1] == 'BOOKS_AND_REFERENCE') and (app[8] == 'Everyone'):\n",
    "        l1 = [app[0], app[5]]\n",
    "        all_age_groups.append(l1)\n",
    "for line in all_age_groups:\n",
    "    print(line[0], ':', line[1])\n",
    "\n",
    "print('\\n')\n",
    "\n",
    "print('\\033[1mNumber of Apps Suitable for Everyone \\033[0m')\n",
    "\n",
    "print(len(all_age_groups))\n",
    "\n"
   ]
  },
  {
   "cell_type": "markdown",
   "id": "7d88a3f6",
   "metadata": {},
   "source": [
    "## Interpretation and Recommendation"
   ]
  },
  {
   "cell_type": "markdown",
   "id": "beb42ba3",
   "metadata": {},
   "source": [
    "Above I identified four age categories within the Play Store:\n",
    " - `Everyone`\n",
    " - `Everyone 10+`\n",
    " - `Teen`\n",
    " - `Mature`\n",
    "\n",
    "Although there is not a specific age group aimed at children, the `Everyone` category would be the most suitable.  Looking through the app list I can see that there are a number of apps based around a book, such as `D.H. Lawrence Poems FREE`. Creating an app version of an interactive children's book would be advisable as I can see that a book will be popular, however the market is not overly saturated.  Making the app interactive is a unique angle which will help the book to stand out within this category."
   ]
  },
  {
   "cell_type": "markdown",
   "id": "9de1f8d6",
   "metadata": {},
   "source": [
    "# Summary"
   ]
  },
  {
   "cell_type": "markdown",
   "id": "5290bc0e",
   "metadata": {},
   "source": [
    "In this project I utilised the methods of data science to:\n",
    " - Clarify the project goal\n",
    " - Collect relevant data\n",
    " - Cleaned the data\n",
    " - Analysed the data\n",
    " \n",
    " Using these methods I am able to recommend developing an interactive children's book, which has the potential to be profitable in both the Play Store and App Store.  The interactive element could be personalisation, in which the child can insert themselves into the story using their name and picture and could take the form of a 'Choose Your Own Adventure' book.\n",
    "\n",
    "The results of this project demonstrate that the methods of data science can be used to facilitate and advise on decisions in a business setting.  This is only one example; data science is an incredibly versatile field."
   ]
  }
 ],
 "metadata": {
  "kernelspec": {
   "display_name": "Python 3 (ipykernel)",
   "language": "python",
   "name": "python3"
  },
  "language_info": {
   "codemirror_mode": {
    "name": "ipython",
    "version": 3
   },
   "file_extension": ".py",
   "mimetype": "text/x-python",
   "name": "python",
   "nbconvert_exporter": "python",
   "pygments_lexer": "ipython3",
   "version": "3.9.7"
  }
 },
 "nbformat": 4,
 "nbformat_minor": 5
}
